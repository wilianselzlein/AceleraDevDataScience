{
  "nbformat": 4,
  "nbformat_minor": 0,
  "metadata": {
    "colab": {
      "name": "Final.ipynb",
      "provenance": [],
      "collapsed_sections": [
        "Fz_txMJOK8T9",
        "nSMTUMQHYb0T"
      ]
    },
    "kernelspec": {
      "name": "python3",
      "display_name": "Python 3"
    },
    "widgets": {
      "application/vnd.jupyter.widget-state+json": {
        "7b63e1721e9a40518e71927fd2d975ed": {
          "model_module": "@jupyter-widgets/controls",
          "model_name": "VBoxModel",
          "state": {
            "_view_name": "VBoxView",
            "_dom_classes": [
              "widget-interact"
            ],
            "_model_name": "VBoxModel",
            "_view_module": "@jupyter-widgets/controls",
            "_model_module_version": "1.5.0",
            "_view_count": null,
            "_view_module_version": "1.5.0",
            "box_style": "",
            "layout": "IPY_MODEL_15cc6795afaf4720a837b3c8eb18a548",
            "_model_module": "@jupyter-widgets/controls",
            "children": [
              "IPY_MODEL_e179571b044e48099f72269f852c3a85",
              "IPY_MODEL_b67d5baa4ad4476fbfd8223a924e0485"
            ]
          }
        },
        "15cc6795afaf4720a837b3c8eb18a548": {
          "model_module": "@jupyter-widgets/base",
          "model_name": "LayoutModel",
          "state": {
            "_view_name": "LayoutView",
            "grid_template_rows": null,
            "right": null,
            "justify_content": null,
            "_view_module": "@jupyter-widgets/base",
            "overflow": null,
            "_model_module_version": "1.2.0",
            "_view_count": null,
            "flex_flow": null,
            "width": null,
            "min_width": null,
            "border": null,
            "align_items": null,
            "bottom": null,
            "_model_module": "@jupyter-widgets/base",
            "top": null,
            "grid_column": null,
            "overflow_y": null,
            "overflow_x": null,
            "grid_auto_flow": null,
            "grid_area": null,
            "grid_template_columns": null,
            "flex": null,
            "_model_name": "LayoutModel",
            "justify_items": null,
            "grid_row": null,
            "max_height": null,
            "align_content": null,
            "visibility": null,
            "align_self": null,
            "height": null,
            "min_height": null,
            "padding": null,
            "grid_auto_rows": null,
            "grid_gap": null,
            "max_width": null,
            "order": null,
            "_view_module_version": "1.2.0",
            "grid_template_areas": null,
            "object_position": null,
            "object_fit": null,
            "grid_auto_columns": null,
            "margin": null,
            "display": null,
            "left": null
          }
        },
        "e179571b044e48099f72269f852c3a85": {
          "model_module": "@jupyter-widgets/controls",
          "model_name": "IntSliderModel",
          "state": {
            "_view_name": "IntSliderView",
            "style": "IPY_MODEL_a52d40f8f936449dbc034a1a2d6f3ba8",
            "_dom_classes": [],
            "description": "x",
            "step": 1,
            "_model_name": "IntSliderModel",
            "orientation": "horizontal",
            "max": 99,
            "_view_module": "@jupyter-widgets/controls",
            "_model_module_version": "1.5.0",
            "value": 95,
            "_view_count": null,
            "disabled": false,
            "_view_module_version": "1.5.0",
            "min": 0,
            "continuous_update": true,
            "readout_format": "d",
            "description_tooltip": null,
            "readout": true,
            "_model_module": "@jupyter-widgets/controls",
            "layout": "IPY_MODEL_72b78323dcc9429a8df1c7dd0c9a3b2a"
          }
        },
        "b67d5baa4ad4476fbfd8223a924e0485": {
          "model_module": "@jupyter-widgets/output",
          "model_name": "OutputModel",
          "state": {
            "_view_name": "OutputView",
            "msg_id": "",
            "_dom_classes": [],
            "_model_name": "OutputModel",
            "outputs": [
              {
                "output_type": "stream",
                "metadata": {
                  "tags": []
                },
                "text": "                                                      id  portifolio    %\n1931   7d881929f2f294a893f1f78419e3e33b44c45f7af1d27f...        2.00 0.99\n26780  a00d51e4cee9ea7b9823cb4f24b897fd8186bf7a478002...        2.00 0.99\n25616  a4279d97aeae56284bff539dc6b756fa5869c8097bb6b1...        2.00 0.98\n13388  6bfa78e3803dda1fc6eef08a7e4e072555e346a9549098...        2.00 0.96\n6230   fb7038061053902a7ee8c77075f95d4ac4095add7a9a21...        2.00 0.95\n...                                                  ...         ...  ...\n3737   ff295fc5efcdb44fa89a9334d1637d78fc5002a3323a5a...        1.00 0.95\n2564   11e588c68de4a6522045ecc02c0a7b512c4cb1ba2e008b...        1.00 0.95\n9233   a15ae4419436227dfc7f8702ba2ddac76e20d482b99c01...        1.00 0.95\n15812  2ad6e987d111ec9bf99e3ada01094d3a2fc69928185c64...        1.00 0.95\n22055  842029720b0a104c71f597116683ceb0af2112ba56bb4c...        1.00 0.95\n\n[4023 rows x 3 columns]\n",
                "stream": "stdout"
              },
              {
                "output_type": "display_data",
                "metadata": {
                  "tags": []
                },
                "text/plain": "95"
              }
            ],
            "_view_module": "@jupyter-widgets/output",
            "_model_module_version": "1.0.0",
            "_view_count": null,
            "_view_module_version": "1.0.0",
            "layout": "IPY_MODEL_e0a3c13ebdec4f72a6b6fc455ba8912d",
            "_model_module": "@jupyter-widgets/output"
          }
        },
        "a52d40f8f936449dbc034a1a2d6f3ba8": {
          "model_module": "@jupyter-widgets/controls",
          "model_name": "SliderStyleModel",
          "state": {
            "_view_name": "StyleView",
            "handle_color": null,
            "_model_name": "SliderStyleModel",
            "description_width": "",
            "_view_module": "@jupyter-widgets/base",
            "_model_module_version": "1.5.0",
            "_view_count": null,
            "_view_module_version": "1.2.0",
            "_model_module": "@jupyter-widgets/controls"
          }
        },
        "72b78323dcc9429a8df1c7dd0c9a3b2a": {
          "model_module": "@jupyter-widgets/base",
          "model_name": "LayoutModel",
          "state": {
            "_view_name": "LayoutView",
            "grid_template_rows": null,
            "right": null,
            "justify_content": null,
            "_view_module": "@jupyter-widgets/base",
            "overflow": null,
            "_model_module_version": "1.2.0",
            "_view_count": null,
            "flex_flow": null,
            "width": null,
            "min_width": null,
            "border": null,
            "align_items": null,
            "bottom": null,
            "_model_module": "@jupyter-widgets/base",
            "top": null,
            "grid_column": null,
            "overflow_y": null,
            "overflow_x": null,
            "grid_auto_flow": null,
            "grid_area": null,
            "grid_template_columns": null,
            "flex": null,
            "_model_name": "LayoutModel",
            "justify_items": null,
            "grid_row": null,
            "max_height": null,
            "align_content": null,
            "visibility": null,
            "align_self": null,
            "height": null,
            "min_height": null,
            "padding": null,
            "grid_auto_rows": null,
            "grid_gap": null,
            "max_width": null,
            "order": null,
            "_view_module_version": "1.2.0",
            "grid_template_areas": null,
            "object_position": null,
            "object_fit": null,
            "grid_auto_columns": null,
            "margin": null,
            "display": null,
            "left": null
          }
        },
        "e0a3c13ebdec4f72a6b6fc455ba8912d": {
          "model_module": "@jupyter-widgets/base",
          "model_name": "LayoutModel",
          "state": {
            "_view_name": "LayoutView",
            "grid_template_rows": null,
            "right": null,
            "justify_content": null,
            "_view_module": "@jupyter-widgets/base",
            "overflow": null,
            "_model_module_version": "1.2.0",
            "_view_count": null,
            "flex_flow": null,
            "width": null,
            "min_width": null,
            "border": null,
            "align_items": null,
            "bottom": null,
            "_model_module": "@jupyter-widgets/base",
            "top": null,
            "grid_column": null,
            "overflow_y": null,
            "overflow_x": null,
            "grid_auto_flow": null,
            "grid_area": null,
            "grid_template_columns": null,
            "flex": null,
            "_model_name": "LayoutModel",
            "justify_items": null,
            "grid_row": null,
            "max_height": null,
            "align_content": null,
            "visibility": null,
            "align_self": null,
            "height": null,
            "min_height": null,
            "padding": null,
            "grid_auto_rows": null,
            "grid_gap": null,
            "max_width": null,
            "order": null,
            "_view_module_version": "1.2.0",
            "grid_template_areas": null,
            "object_position": null,
            "object_fit": null,
            "grid_auto_columns": null,
            "margin": null,
            "display": null,
            "left": null
          }
        }
      }
    }
  },
  "cells": [
    {
      "cell_type": "markdown",
      "metadata": {
        "id": "-OPfFPjcW0m_",
        "colab_type": "text"
      },
      "source": [
        "# Imports"
      ]
    },
    {
      "cell_type": "code",
      "metadata": {
        "id": "uKpJzoaIcizy",
        "colab_type": "code",
        "colab": {}
      },
      "source": [
        "from platform import python_version"
      ],
      "execution_count": 0,
      "outputs": []
    },
    {
      "cell_type": "code",
      "metadata": {
        "id": "t9WSqv-8clIJ",
        "colab_type": "code",
        "outputId": "e060967b-c150-413e-9feb-dd9045fb4890",
        "colab": {
          "base_uri": "https://localhost:8080/",
          "height": 34
        }
      },
      "source": [
        "print('Versão da Linguagem Python Usada Neste Jupyter Notebook:', python_version())"
      ],
      "execution_count": 188,
      "outputs": [
        {
          "output_type": "stream",
          "text": [
            "Versão da Linguagem Python Usada Neste Jupyter Notebook: 3.6.9\n"
          ],
          "name": "stdout"
        }
      ]
    },
    {
      "cell_type": "code",
      "metadata": {
        "id": "SiaC1ygYUlC4",
        "colab_type": "code",
        "colab": {}
      },
      "source": [
        "import warnings\n",
        "warnings.filterwarnings('ignore')\n",
        "\n",
        "import pandas as pd\n",
        "import numpy as np\n",
        "from platform import python_version\n",
        "from mlxtend.plotting import plot_confusion_matrix\n",
        "\n",
        "from google.colab import drive\n",
        "\n",
        "from __future__ import print_function\n",
        "from ipywidgets import interact, interactive, fixed, interact_manual\n",
        "import ipywidgets as widgets"
      ],
      "execution_count": 0,
      "outputs": []
    },
    {
      "cell_type": "code",
      "metadata": {
        "id": "flKU5QhYcLTu",
        "colab_type": "code",
        "colab": {}
      },
      "source": [
        "from sklearn.pipeline import Pipeline\n",
        "import sklearn.model_selection\n",
        "from sklearn.model_selection import train_test_split\n",
        "\n",
        "import sklearn.metrics\n",
        "from sklearn import metrics\n",
        "from sklearn.metrics import accuracy_score\n",
        "from sklearn.metrics import classification_report\n",
        "from sklearn.metrics import confusion_matrix\n",
        "from sklearn.compose import ColumnTransformer\n",
        "from sklearn.preprocessing import OneHotEncoder, OrdinalEncoder, MinMaxScaler, StandardScaler, FunctionTransformer, LabelEncoder\n",
        "\n",
        "from sklearn.utils.multiclass import unique_labels\n",
        "\n",
        "from sklearn.model_selection import KFold\n",
        "from sklearn.model_selection import cross_val_score\n",
        "from sklearn.model_selection import cross_validate\n",
        "from sklearn.model_selection import cross_val_predict"
      ],
      "execution_count": 0,
      "outputs": []
    },
    {
      "cell_type": "code",
      "metadata": {
        "id": "hNaBDD_1fSr-",
        "colab_type": "code",
        "colab": {}
      },
      "source": [
        "# !sudo apt-get install build-essential swig\n",
        "# !curl https://raw.githubusercontent.com/automl/auto-sklearn/master/requirements.txt | xargs -n 1 -L 1 pip install\n",
        "# !pip install auto-sklearn"
      ],
      "execution_count": 0,
      "outputs": []
    },
    {
      "cell_type": "code",
      "metadata": {
        "id": "1U-K2W-HfVef",
        "colab_type": "code",
        "colab": {}
      },
      "source": [
        "# import autosklearn.classification"
      ],
      "execution_count": 0,
      "outputs": []
    },
    {
      "cell_type": "code",
      "metadata": {
        "id": "hiWorzSeaS65",
        "colab_type": "code",
        "outputId": "495949a3-d1ac-46f4-b01b-9a60b788814d",
        "colab": {
          "base_uri": "https://localhost:8080/",
          "height": 34
        }
      },
      "source": [
        "np.__version__"
      ],
      "execution_count": 193,
      "outputs": [
        {
          "output_type": "execute_result",
          "data": {
            "text/plain": [
              "'1.18.5'"
            ]
          },
          "metadata": {
            "tags": []
          },
          "execution_count": 193
        }
      ]
    },
    {
      "cell_type": "code",
      "metadata": {
        "id": "4RYLIw6-N8y3",
        "colab_type": "code",
        "outputId": "fec106ed-ea2f-4a38-975b-d4e6ecf77c8d",
        "colab": {
          "base_uri": "https://localhost:8080/",
          "height": 34
        }
      },
      "source": [
        "pd.__version__"
      ],
      "execution_count": 194,
      "outputs": [
        {
          "output_type": "execute_result",
          "data": {
            "text/plain": [
              "'1.0.4'"
            ]
          },
          "metadata": {
            "tags": []
          },
          "execution_count": 194
        }
      ]
    },
    {
      "cell_type": "code",
      "metadata": {
        "id": "yp0_3qxPN_gO",
        "colab_type": "code",
        "colab": {}
      },
      "source": [
        "pd.options.display.max_columns = 100\n",
        "pd.options.display.max_rows = 100\n",
        "pd.set_option('display.float_format', lambda x: '%.2f' % x)"
      ],
      "execution_count": 0,
      "outputs": []
    },
    {
      "cell_type": "code",
      "metadata": {
        "id": "F8x0A2e-YjBQ",
        "colab_type": "code",
        "colab": {}
      },
      "source": [
        "global use_preprocs"
      ],
      "execution_count": 0,
      "outputs": []
    },
    {
      "cell_type": "code",
      "metadata": {
        "id": "nvH25BkLYsAf",
        "colab_type": "code",
        "colab": {}
      },
      "source": [
        "use_preprocs = False"
      ],
      "execution_count": 0,
      "outputs": []
    },
    {
      "cell_type": "markdown",
      "metadata": {
        "id": "Ii-tQ57pW-Zi",
        "colab_type": "text"
      },
      "source": [
        "# DF"
      ]
    },
    {
      "cell_type": "code",
      "metadata": {
        "id": "vP3HxJ-RfvfK",
        "colab_type": "code",
        "colab": {
          "base_uri": "https://localhost:8080/",
          "height": 34
        },
        "outputId": "03654f22-41bb-497d-fc82-2300ad8319aa"
      },
      "source": [
        "drive.mount('/content/gdrive',force_remount=True)"
      ],
      "execution_count": 198,
      "outputs": [
        {
          "output_type": "stream",
          "text": [
            "Mounted at /content/gdrive\n"
          ],
          "name": "stdout"
        }
      ]
    },
    {
      "cell_type": "code",
      "metadata": {
        "id": "0PahRQYYODY_",
        "colab_type": "code",
        "colab": {}
      },
      "source": [
        "caminho = 'gdrive/My Drive/Colab Notebooks/CodeNation/final/'"
      ],
      "execution_count": 0,
      "outputs": []
    },
    {
      "cell_type": "code",
      "metadata": {
        "id": "pCakuBV_OMI_",
        "colab_type": "code",
        "outputId": "7ae47573-030d-4412-aa00-9a02c01ef0a2",
        "colab": {
          "base_uri": "https://localhost:8080/",
          "height": 34
        }
      },
      "source": [
        "!ls 'gdrive/My Drive/Colab Notebooks/CodeNation/final/'"
      ],
      "execution_count": 200,
      "outputs": [
        {
          "output_type": "stream",
          "text": [
            "estaticos_market.csv  Final.ipynb\n"
          ],
          "name": "stdout"
        }
      ]
    },
    {
      "cell_type": "code",
      "metadata": {
        "id": "W2dsMrcSYiwz",
        "colab_type": "code",
        "colab": {}
      },
      "source": [
        "df = pd.read_csv(caminho + 'estaticos_market.csv', index_col=0, parse_dates=['dt_situacao'])"
      ],
      "execution_count": 0,
      "outputs": []
    },
    {
      "cell_type": "code",
      "metadata": {
        "id": "1wTxd1nqYm2M",
        "colab_type": "code",
        "colab": {}
      },
      "source": [
        "df1 = pd.read_csv('https://codenation-challenges.s3-us-west-1.amazonaws.com/ml-leads/estaticos_portfolio1.csv', usecols=['id'])\n",
        "\n",
        "df2 = pd.read_csv('https://codenation-challenges.s3-us-west-1.amazonaws.com/ml-leads/estaticos_portfolio2.csv', usecols=['id'])\n",
        "\n",
        "df3 = pd.read_csv('https://codenation-challenges.s3-us-west-1.amazonaws.com/ml-leads/estaticos_portfolio3.csv', usecols=['id'])"
      ],
      "execution_count": 0,
      "outputs": []
    },
    {
      "cell_type": "code",
      "metadata": {
        "id": "j4n2Clx1PtLW",
        "colab_type": "code",
        "colab": {}
      },
      "source": [
        "df1['portifolio'] = 1"
      ],
      "execution_count": 0,
      "outputs": []
    },
    {
      "cell_type": "code",
      "metadata": {
        "id": "n2MtnCwGP1xs",
        "colab_type": "code",
        "colab": {}
      },
      "source": [
        "df2['portifolio'] = 2"
      ],
      "execution_count": 0,
      "outputs": []
    },
    {
      "cell_type": "code",
      "metadata": {
        "id": "afKC0vWqP31h",
        "colab_type": "code",
        "colab": {}
      },
      "source": [
        "df3['portifolio'] = 3"
      ],
      "execution_count": 0,
      "outputs": []
    },
    {
      "cell_type": "code",
      "metadata": {
        "id": "HJvCrSwvY6Zj",
        "colab_type": "code",
        "colab": {}
      },
      "source": [
        "temp = pd.DataFrame()"
      ],
      "execution_count": 0,
      "outputs": []
    },
    {
      "cell_type": "code",
      "metadata": {
        "id": "1ENmOprcZBkg",
        "colab_type": "code",
        "colab": {}
      },
      "source": [
        "temp = temp.append([df1, df2, df3])"
      ],
      "execution_count": 0,
      "outputs": []
    },
    {
      "cell_type": "code",
      "metadata": {
        "id": "j30fl9wP21Y0",
        "colab_type": "code",
        "outputId": "a85e97fe-04fb-43c7-e11f-0574a1ce0772",
        "colab": {
          "base_uri": "https://localhost:8080/",
          "height": 34
        }
      },
      "source": [
        "df.shape"
      ],
      "execution_count": 208,
      "outputs": [
        {
          "output_type": "execute_result",
          "data": {
            "text/plain": [
              "(462298, 181)"
            ]
          },
          "metadata": {
            "tags": []
          },
          "execution_count": 208
        }
      ]
    },
    {
      "cell_type": "code",
      "metadata": {
        "id": "8E3dbVkR2KhK",
        "colab_type": "code",
        "colab": {}
      },
      "source": [
        "df.drop_duplicates('id', keep='first', inplace=True)"
      ],
      "execution_count": 0,
      "outputs": []
    },
    {
      "cell_type": "code",
      "metadata": {
        "id": "XmNK6h-J2iQz",
        "colab_type": "code",
        "colab": {
          "base_uri": "https://localhost:8080/",
          "height": 34
        },
        "outputId": "286892dd-ad25-4d5a-d098-785a38344582"
      },
      "source": [
        "df.shape"
      ],
      "execution_count": 210,
      "outputs": [
        {
          "output_type": "execute_result",
          "data": {
            "text/plain": [
              "(462298, 181)"
            ]
          },
          "metadata": {
            "tags": []
          },
          "execution_count": 210
        }
      ]
    },
    {
      "cell_type": "code",
      "metadata": {
        "id": "gBBHsK2qaH7m",
        "colab_type": "code",
        "colab": {}
      },
      "source": [
        "df = df.merge(temp, how='left', on='id')"
      ],
      "execution_count": 0,
      "outputs": []
    },
    {
      "cell_type": "code",
      "metadata": {
        "id": "_k40sPfHZMTt",
        "colab_type": "code",
        "outputId": "c20b6ca9-fa51-4757-cbfd-448960ecf854",
        "colab": {
          "base_uri": "https://localhost:8080/",
          "height": 34
        }
      },
      "source": [
        "df.shape"
      ],
      "execution_count": 212,
      "outputs": [
        {
          "output_type": "execute_result",
          "data": {
            "text/plain": [
              "(462406, 182)"
            ]
          },
          "metadata": {
            "tags": []
          },
          "execution_count": 212
        }
      ]
    },
    {
      "cell_type": "code",
      "metadata": {
        "id": "uq1l6SAs5WUC",
        "colab_type": "code",
        "colab": {}
      },
      "source": [
        "df['portifolio'] = df['portifolio'].fillna(0)"
      ],
      "execution_count": 0,
      "outputs": []
    },
    {
      "cell_type": "code",
      "metadata": {
        "id": "LUQLsMqqQk8w",
        "colab_type": "code",
        "outputId": "49e4df2f-c6af-496c-82ab-816b2c163c2f",
        "colab": {
          "base_uri": "https://localhost:8080/",
          "height": 85
        }
      },
      "source": [
        "print(df.shape)\n",
        "print(df1.shape)\n",
        "print(df2.shape)\n",
        "print(df3.shape)"
      ],
      "execution_count": 214,
      "outputs": [
        {
          "output_type": "stream",
          "text": [
            "(462406, 182)\n",
            "(555, 2)\n",
            "(566, 2)\n",
            "(265, 2)\n"
          ],
          "name": "stdout"
        }
      ]
    },
    {
      "cell_type": "code",
      "metadata": {
        "id": "XDAFtKaWQIlj",
        "colab_type": "code",
        "outputId": "a7454f21-a12f-445f-aa80-75777294a252",
        "colab": {
          "base_uri": "https://localhost:8080/",
          "height": 170
        }
      },
      "source": [
        "df.columns"
      ],
      "execution_count": 215,
      "outputs": [
        {
          "output_type": "execute_result",
          "data": {
            "text/plain": [
              "Index(['id', 'fl_matriz', 'de_natureza_juridica', 'sg_uf',\n",
              "       'natureza_juridica_macro', 'de_ramo', 'setor', 'idade_empresa_anos',\n",
              "       'idade_emp_cat', 'fl_me',\n",
              "       ...\n",
              "       'max_meses_servicos', 'min_meses_servicos', 'qt_funcionarios',\n",
              "       'qt_funcionarios_12meses', 'qt_funcionarios_24meses',\n",
              "       'tx_crescimento_12meses', 'tx_crescimento_24meses', 'tx_rotatividade',\n",
              "       'qt_filiais', 'portifolio'],\n",
              "      dtype='object', length=182)"
            ]
          },
          "metadata": {
            "tags": []
          },
          "execution_count": 215
        }
      ]
    },
    {
      "cell_type": "code",
      "metadata": {
        "id": "uf8EtzmxQovU",
        "colab_type": "code",
        "colab": {}
      },
      "source": [
        "del df1\n",
        "del df2\n",
        "del df3"
      ],
      "execution_count": 0,
      "outputs": []
    },
    {
      "cell_type": "code",
      "metadata": {
        "id": "OmDoqmi3Qsxl",
        "colab_type": "code",
        "colab": {}
      },
      "source": [
        "def basic_summary(df):\n",
        "    return pd.DataFrame({\n",
        "        'df dtype': df.dtypes,\n",
        "        'df nulls': df.isna().sum(),\n",
        "        'df nulls (%)': df.isna().mean() * 100\n",
        "    })\n",
        "\n",
        "df_info = basic_summary(df)"
      ],
      "execution_count": 0,
      "outputs": []
    },
    {
      "cell_type": "markdown",
      "metadata": {
        "id": "WaSoh37cYNnd",
        "colab_type": "text"
      },
      "source": [
        "# Features"
      ]
    },
    {
      "cell_type": "code",
      "metadata": {
        "id": "jaQVbZ5zRKBr",
        "colab_type": "code",
        "outputId": "82ca7500-abc4-492e-b959-5a9d948daa00",
        "colab": {
          "base_uri": "https://localhost:8080/",
          "height": 419
        }
      },
      "source": [
        "df_info.sort_values(by='df nulls (%)', ascending=False)"
      ],
      "execution_count": 218,
      "outputs": [
        {
          "output_type": "execute_result",
          "data": {
            "text/html": [
              "<div>\n",
              "<style scoped>\n",
              "    .dataframe tbody tr th:only-of-type {\n",
              "        vertical-align: middle;\n",
              "    }\n",
              "\n",
              "    .dataframe tbody tr th {\n",
              "        vertical-align: top;\n",
              "    }\n",
              "\n",
              "    .dataframe thead th {\n",
              "        text-align: right;\n",
              "    }\n",
              "</style>\n",
              "<table border=\"1\" class=\"dataframe\">\n",
              "  <thead>\n",
              "    <tr style=\"text-align: right;\">\n",
              "      <th></th>\n",
              "      <th>df dtype</th>\n",
              "      <th>df nulls</th>\n",
              "      <th>df nulls (%)</th>\n",
              "    </tr>\n",
              "  </thead>\n",
              "  <tbody>\n",
              "    <tr>\n",
              "      <th>qt_alteracao_socio_total</th>\n",
              "      <td>float64</td>\n",
              "      <td>462406</td>\n",
              "      <td>100.00</td>\n",
              "    </tr>\n",
              "    <tr>\n",
              "      <th>grau_instrucao_macro_desconhecido</th>\n",
              "      <td>float64</td>\n",
              "      <td>462406</td>\n",
              "      <td>100.00</td>\n",
              "    </tr>\n",
              "    <tr>\n",
              "      <th>qt_alteracao_socio_180d</th>\n",
              "      <td>float64</td>\n",
              "      <td>462406</td>\n",
              "      <td>100.00</td>\n",
              "    </tr>\n",
              "    <tr>\n",
              "      <th>qt_alteracao_socio_365d</th>\n",
              "      <td>float64</td>\n",
              "      <td>462406</td>\n",
              "      <td>100.00</td>\n",
              "    </tr>\n",
              "    <tr>\n",
              "      <th>qt_alteracao_socio_90d</th>\n",
              "      <td>float64</td>\n",
              "      <td>462406</td>\n",
              "      <td>100.00</td>\n",
              "    </tr>\n",
              "    <tr>\n",
              "      <th>...</th>\n",
              "      <td>...</td>\n",
              "      <td>...</td>\n",
              "      <td>...</td>\n",
              "    </tr>\n",
              "    <tr>\n",
              "      <th>fl_ltda</th>\n",
              "      <td>bool</td>\n",
              "      <td>0</td>\n",
              "      <td>0.00</td>\n",
              "    </tr>\n",
              "    <tr>\n",
              "      <th>fl_st_especial</th>\n",
              "      <td>bool</td>\n",
              "      <td>0</td>\n",
              "      <td>0.00</td>\n",
              "    </tr>\n",
              "    <tr>\n",
              "      <th>fl_email</th>\n",
              "      <td>bool</td>\n",
              "      <td>0</td>\n",
              "      <td>0.00</td>\n",
              "    </tr>\n",
              "    <tr>\n",
              "      <th>fl_telefone</th>\n",
              "      <td>bool</td>\n",
              "      <td>0</td>\n",
              "      <td>0.00</td>\n",
              "    </tr>\n",
              "    <tr>\n",
              "      <th>portifolio</th>\n",
              "      <td>float64</td>\n",
              "      <td>0</td>\n",
              "      <td>0.00</td>\n",
              "    </tr>\n",
              "  </tbody>\n",
              "</table>\n",
              "<p>182 rows × 3 columns</p>\n",
              "</div>"
            ],
            "text/plain": [
              "                                  df dtype  df nulls  df nulls (%)\n",
              "qt_alteracao_socio_total           float64    462406        100.00\n",
              "grau_instrucao_macro_desconhecido  float64    462406        100.00\n",
              "qt_alteracao_socio_180d            float64    462406        100.00\n",
              "qt_alteracao_socio_365d            float64    462406        100.00\n",
              "qt_alteracao_socio_90d             float64    462406        100.00\n",
              "...                                    ...       ...           ...\n",
              "fl_ltda                               bool         0          0.00\n",
              "fl_st_especial                        bool         0          0.00\n",
              "fl_email                              bool         0          0.00\n",
              "fl_telefone                           bool         0          0.00\n",
              "portifolio                         float64         0          0.00\n",
              "\n",
              "[182 rows x 3 columns]"
            ]
          },
          "metadata": {
            "tags": []
          },
          "execution_count": 218
        }
      ]
    },
    {
      "cell_type": "code",
      "metadata": {
        "id": "oz4UTJIjRLJa",
        "colab_type": "code",
        "colab": {}
      },
      "source": [
        "temp = df_info['df nulls (%)'] > 40\n",
        "\n",
        "cols = list(df.columns[temp])\n",
        "cols.append('dt_situacao')"
      ],
      "execution_count": 0,
      "outputs": []
    },
    {
      "cell_type": "code",
      "metadata": {
        "id": "ciGXM4oZg2aF",
        "colab_type": "code",
        "colab": {
          "base_uri": "https://localhost:8080/",
          "height": 221
        },
        "outputId": "91aca921-8e0d-4104-a4dc-c507a2da9372"
      },
      "source": [
        "temp"
      ],
      "execution_count": 220,
      "outputs": [
        {
          "output_type": "execute_result",
          "data": {
            "text/plain": [
              "id                         False\n",
              "fl_matriz                  False\n",
              "de_natureza_juridica       False\n",
              "sg_uf                      False\n",
              "natureza_juridica_macro    False\n",
              "                           ...  \n",
              "tx_crescimento_12meses      True\n",
              "tx_crescimento_24meses      True\n",
              "tx_rotatividade             True\n",
              "qt_filiais                 False\n",
              "portifolio                 False\n",
              "Name: df nulls (%), Length: 182, dtype: bool"
            ]
          },
          "metadata": {
            "tags": []
          },
          "execution_count": 220
        }
      ]
    },
    {
      "cell_type": "code",
      "metadata": {
        "id": "t9FCT-ANkJJB",
        "colab_type": "code",
        "colab": {}
      },
      "source": [
        "df.drop(columns=cols, inplace=True)"
      ],
      "execution_count": 0,
      "outputs": []
    },
    {
      "cell_type": "code",
      "metadata": {
        "id": "c8qowya8jnht",
        "colab_type": "code",
        "outputId": "7d6bab3a-fd48-441e-88c8-eae774e34e4a",
        "colab": {
          "base_uri": "https://localhost:8080/",
          "height": 34
        }
      },
      "source": [
        "df.shape"
      ],
      "execution_count": 222,
      "outputs": [
        {
          "output_type": "execute_result",
          "data": {
            "text/plain": [
              "(462406, 50)"
            ]
          },
          "metadata": {
            "tags": []
          },
          "execution_count": 222
        }
      ]
    },
    {
      "cell_type": "code",
      "metadata": {
        "id": "I76gv02Li90i",
        "colab_type": "code",
        "outputId": "f6a354b6-f0c3-4cef-be07-5c2daa574608",
        "colab": {
          "base_uri": "https://localhost:8080/",
          "height": 71
        }
      },
      "source": [
        "print(f'Remove null values: \\n{cols}')"
      ],
      "execution_count": 223,
      "outputs": [
        {
          "output_type": "stream",
          "text": [
            "Remove null values: \n",
            "['vl_total_tancagem', 'vl_total_veiculos_antt', 'vl_total_veiculos_leves', 'vl_total_veiculos_pesados', 'qt_art', 'vl_total_tancagem_grupo', 'vl_total_veiculos_antt_grupo', 'vl_potenc_cons_oleo_gas', 'de_indicador_telefone', 'vl_frota', 'qt_socios_st_suspensa', 'qt_socios_masculino', 'qt_socios_feminino', 'qt_socios_pep', 'qt_alteracao_socio_total', 'qt_alteracao_socio_90d', 'qt_alteracao_socio_180d', 'qt_alteracao_socio_365d', 'qt_socios_pj_ativos', 'qt_socios_pj_nulos', 'qt_socios_pj_baixados', 'qt_socios_pj_suspensos', 'qt_socios_pj_inaptos', 'vl_idade_media_socios_pj', 'vl_idade_maxima_socios_pj', 'vl_idade_minima_socios_pj', 'qt_coligados', 'qt_socios_coligados', 'qt_coligados_matriz', 'qt_coligados_ativo', 'qt_coligados_baixada', 'qt_coligados_inapta', 'qt_coligados_suspensa', 'qt_coligados_nula', 'idade_media_coligadas', 'idade_maxima_coligadas', 'idade_minima_coligadas', 'coligada_mais_nova_ativa', 'coligada_mais_antiga_ativa', 'idade_media_coligadas_ativas', 'coligada_mais_nova_baixada', 'coligada_mais_antiga_baixada', 'idade_media_coligadas_baixadas', 'qt_coligados_sa', 'qt_coligados_me', 'qt_coligados_mei', 'qt_coligados_ltda', 'qt_coligados_epp', 'qt_coligados_norte', 'qt_coligados_sul', 'qt_coligados_nordeste', 'qt_coligados_centro', 'qt_coligados_sudeste', 'qt_coligados_exterior', 'qt_ufs_coligados', 'qt_regioes_coligados', 'qt_ramos_coligados', 'qt_coligados_industria', 'qt_coligados_agropecuaria', 'qt_coligados_comercio', 'qt_coligados_serviço', 'qt_coligados_ccivil', 'qt_funcionarios_coligados', 'qt_funcionarios_coligados_gp', 'media_funcionarios_coligados_gp', 'max_funcionarios_coligados_gp', 'min_funcionarios_coligados_gp', 'vl_folha_coligados', 'media_vl_folha_coligados', 'max_vl_folha_coligados', 'min_vl_folha_coligados', 'vl_folha_coligados_gp', 'media_vl_folha_coligados_gp', 'max_vl_folha_coligados_gp', 'min_vl_folha_coligados_gp', 'faturamento_est_coligados', 'media_faturamento_est_coligados', 'max_faturamento_est_coligados', 'min_faturamento_est_coligados', 'faturamento_est_coligados_gp', 'media_faturamento_est_coligados_gp', 'max_faturamento_est_coligados_gp', 'min_faturamento_est_coligados_gp', 'total_filiais_coligados', 'media_filiais_coligados', 'max_filiais_coligados', 'min_filiais_coligados', 'qt_coligados_atividade_alto', 'qt_coligados_atividade_medio', 'qt_coligados_atividade_baixo', 'qt_coligados_atividade_mt_baixo', 'qt_coligados_atividade_inativo', 'qt_coligadas', 'sum_faturamento_estimado_coligadas', 'qt_ex_funcionarios', 'qt_funcionarios_grupo', 'percent_func_genero_masc', 'percent_func_genero_fem', 'idade_ate_18', 'idade_de_19_a_23', 'idade_de_24_a_28', 'idade_de_29_a_33', 'idade_de_34_a_38', 'idade_de_39_a_43', 'idade_de_44_a_48', 'idade_de_49_a_53', 'idade_de_54_a_58', 'idade_acima_de_58', 'grau_instrucao_macro_analfabeto', 'grau_instrucao_macro_escolaridade_fundamental', 'grau_instrucao_macro_escolaridade_media', 'grau_instrucao_macro_escolaridade_superior', 'grau_instrucao_macro_desconhecido', 'total', 'meses_ultima_contratacaco', 'qt_admitidos_12meses', 'qt_desligados_12meses', 'qt_desligados', 'qt_admitidos', 'media_meses_servicos_all', 'max_meses_servicos_all', 'min_meses_servicos_all', 'media_meses_servicos', 'max_meses_servicos', 'min_meses_servicos', 'qt_funcionarios', 'qt_funcionarios_12meses', 'qt_funcionarios_24meses', 'tx_crescimento_12meses', 'tx_crescimento_24meses', 'tx_rotatividade', 'dt_situacao']\n"
          ],
          "name": "stdout"
        }
      ]
    },
    {
      "cell_type": "code",
      "metadata": {
        "id": "A_DAeDBrRx7i",
        "colab_type": "code",
        "colab": {}
      },
      "source": [
        "del df_info"
      ],
      "execution_count": 0,
      "outputs": []
    },
    {
      "cell_type": "code",
      "metadata": {
        "id": "FTnjmIvtSB2l",
        "colab_type": "code",
        "colab": {}
      },
      "source": [
        "for col in df.columns:\n",
        "    if 'fl_' in col:\n",
        "        if {'SIM', 'NAO'} <= set(df[col]):\n",
        "            df[col] = (df[col]=='SIM')\n",
        "        df[col] = df[col].fillna(False).astype('int')"
      ],
      "execution_count": 0,
      "outputs": []
    },
    {
      "cell_type": "code",
      "metadata": {
        "id": "bNOpSaUaS7KX",
        "colab_type": "code",
        "outputId": "46674af8-8bf5-4d96-88cf-a4629e92de39",
        "colab": {
          "base_uri": "https://localhost:8080/",
          "height": 1000
        }
      },
      "source": [
        "temp = df.select_dtypes('object').columns[1:]\n",
        "\n",
        "for col in temp:\n",
        "    print(col)\n",
        "    df[col] = df[col].fillna('NULL')\n",
        "    print(df[col].unique())\n",
        "    print()"
      ],
      "execution_count": 226,
      "outputs": [
        {
          "output_type": "stream",
          "text": [
            "de_natureza_juridica\n",
            "['SOCIEDADE EMPRESARIA LIMITADA' 'EMPRESARIO INDIVIDUAL' 'COOPERATIVA'\n",
            " 'ASSOCIACAO PRIVADA' 'ENTIDADE SINDICAL' 'CONSORCIO DE SOCIEDADES'\n",
            " 'SOCIEDADE DE ECONOMIA MISTA' 'CONDOMINIO EDILICIO'\n",
            " 'ORGAO PUBLICO DO PODER EXECUTIVO FEDERAL' 'MUNICIPIO'\n",
            " 'ORGAO DE DIRECAO LOCAL DE PARTIDO POLITICO' 'SOCIEDADE ANONIMA ABERTA'\n",
            " 'EMPRESA INDIVIDUAL DE RESPONSABILIDADE LIMITADA DE NATUREZA EMPRESARIA'\n",
            " 'CANDIDATO A CARGO POLITICO ELETIVO' 'EMPRESA INDIVIDUAL IMOBILIARIA'\n",
            " 'ORGAO PUBLICO DO PODER EXECUTIVO ESTADUAL OU DO DISTRITO FEDERAL'\n",
            " 'SOCIEDADE SIMPLES LIMITADA' 'FUNDACAO PRIVADA'\n",
            " 'ORGAO PUBLICO DO PODER EXECUTIVO MUNICIPAL' 'SOCIEDADE ANONIMA FECHADA'\n",
            " 'ORGANIZACAO RELIGIOSA' 'SOCIEDADE UNIPESSOAL DE ADVOCACIA'\n",
            " 'SOCIEDADE SIMPLES PURA' 'AUTARQUIA FEDERAL'\n",
            " 'ORGAO PUBLICO DO PODER JUDICIARIO ESTADUAL' 'EMPRESA PUBLICA'\n",
            " 'SOCIEDADE EMPRESARIA EM NOME COLETIVO' 'AUTARQUIA MUNICIPAL'\n",
            " 'FUNDO PUBLICO' 'AUTARQUIA ESTADUAL OU DO DISTRITO FEDERAL'\n",
            " 'FUNDACAO PUBLICA DE DIREITO PUB MUNICIPAL'\n",
            " 'EMPRESA INDIVIDUAL DE RESPONSABILIDADE LIMITADA DE NATUREZA SIMPLES'\n",
            " 'ORGAO PUBLICO DO PODER LEGISLATIVO MUNICIPAL'\n",
            " 'SERVICO NOTARIAL E REGISTRAL CARTORIO' 'ORGANIZACAO SOCIAL OS'\n",
            " 'CONSORCIO PUBDE DIREITO PUB ASS PUB'\n",
            " 'ORGAO DE DIRECAO REGIONAL DE PARTIDO POLITICO' 'SERVICO SOCIAL AUTONOMO'\n",
            " 'SOCIEDADE EM CONTA DE PARTICIPACAO' 'GRUPO DE SOCIEDADES'\n",
            " 'SOCIEDADE MERCANTIL DE CAPITAL E INDUSTRIA'\n",
            " 'FUNDACAO PUBLICA DE DIREITO PRIVADO MUNICIPAL'\n",
            " 'ORGAO PUBLICO AUTONOMO MUNICIPAL'\n",
            " 'ORGAO PUBLICO DO PODER JUDICIARIO FEDERAL' 'NATUREZA JURIDICA INVALIDA'\n",
            " 'SOCIEDADE EMPRESARIA EM COMANDITA POR ACOES'\n",
            " 'FUNDACAO PUBLICA DE DIREITO PUBFEDERAL'\n",
            " 'ORGAO PUBLICO AUTONOMO ESTADUAL OU DO DISTRITO FEDERAL'\n",
            " 'ESTABELECIMENTO NO BRASIL DE SOCIEDADE ESTRANGEIRA'\n",
            " 'FUNDACAO PUB DE DIREITO PUB EST OU DO DF'\n",
            " 'ORGAO PUBLICO DO PODER LEGISLATIVO ESTADUAL OU DO DISTRITO FEDERAL'\n",
            " 'ENTIDADE DE MEDIACAO E ARBITRAGEM' 'COMUNIDADE INDIGENA'\n",
            " 'FUNDACAO PUBLICA DE DIREITO PRIVADO FEFERAL'\n",
            " 'ESTABELECIMENTO NO BRASIL DE FUNDACAO OU ASSOCIACAO ESTRANGEIRAS'\n",
            " 'CLUBE FUNDO DE INVESTIMENTO' 'REPRESENTACAO DIPLOMATICA ESTRANGEIRA'\n",
            " 'SOCIEDADE SIMPLES EM COMANDITA SIMPLES'\n",
            " 'CONSORCIO PUBLICO DE DIREITO PRIVADO'\n",
            " 'FRENTE PLEBISCITARIA OU REFERENDARIA'\n",
            " 'SOCIEDADE EMPRESARIA EM COMANDITA SIMPLES' 'CONSORCIO DE EMPREGADORES'\n",
            " 'SOCIEDADE SIMPLES EM NOME COLETIVO' 'FUNDO PRIVADO'\n",
            " 'ESTADO OU DISTRITO FEDERAL' 'ORGAO PUBLICO DO PODER LEGISLATIVO FEDERAL'\n",
            " 'ORGAO DE DIRECAO NACIONAL DE PARTIDO POLITICO']\n",
            "\n",
            "sg_uf\n",
            "['RN' 'PI' 'AM' 'MA' 'RO' 'AC']\n",
            "\n",
            "natureza_juridica_macro\n",
            "['ENTIDADES EMPRESARIAIS' 'OUTROS' 'ENTIDADES SEM FINS LUCRATIVOS'\n",
            " 'ADMINISTRACAO PUBLICA' 'CARGO POLITICO' 'PESSOAS FISICAS'\n",
            " 'INSTITUICOES EXTRATERRITORIAIS']\n",
            "\n",
            "de_ramo\n",
            "['INDUSTRIA DA CONSTRUCAO' 'SERVICOS DE ALOJAMENTO/ALIMENTACAO'\n",
            " 'TRANSPORTE, ARMAZENAGEM E CORREIO' 'SERVICOS DIVERSOS'\n",
            " 'SERVICOS PROFISSIONAIS, TECNICOS E CIENTIFICOS' 'QUIMICA-PETROQUIMICA'\n",
            " 'SERVICOS ADMINISTRATIVOS' 'BENS DE CONSUMO' 'COMERCIO VAREJISTA'\n",
            " 'INDUSTRIA DIGITAL' 'TEXTEIS' 'COMERCIO POR ATACADO' 'TELECOM'\n",
            " 'SERVICOS DE SAUDE' 'COMERCIO E REPARACAO DE VEICULOS'\n",
            " 'CULTURA, ESPORTE E RECREACAO' 'SERVICOS FINANCEIROS'\n",
            " 'SERVICOS DE EDUCACAO' 'PRODUTOS DE AGROPECUARIA'\n",
            " 'ADMINISTRACAO PUBLICA, DEFESA E SEGURIDADE SOCIAL' 'PAPEL E CELULOSE'\n",
            " 'SIDERURGICA-METALURGIA' 'OUTROS'\n",
            " 'SEGUROS, PLANOS DE PREVIDENCIA E PLANOS DE SAUDE' 'ELETRICIDADE E GAS'\n",
            " 'INDUSTRIAS EXTRATIVAS' 'ELETROELETRONICOS'\n",
            " 'SERVICOS DE SANEAMENTO BASICO' 'ATIVIDADES IMOBILIARIAS'\n",
            " 'SERVICOS SOCIAIS' 'INDUSTRIA AUTOMOTIVA' 'ORGANISMOS INTERNACIONAIS'\n",
            " 'FARMACEUTICA']\n",
            "\n",
            "setor\n",
            "['CONSTRUÇÃO CIVIL' 'SERVIÇO' 'INDUSTRIA' 'COMERCIO' 'AGROPECUARIA' 'NULL']\n",
            "\n",
            "idade_emp_cat\n",
            "['10 a 15' '1 a 5' '5 a 10' '> 20' '<= 1' '15 a 20']\n",
            "\n",
            "nm_divisao\n",
            "['CONSTRUCAO DE EDIFICIOS' 'ALIMENTACAO' 'TRANSPORTE TERRESTRE'\n",
            " 'REPARACAO E MANUTENCAO DE EQUIPAMENTOS DE INFORMATICA E COMUNICACAO E DE OBJETOS PESSOAIS E DOMESTICOS'\n",
            " 'SERVICOS DE ARQUITETURA E ENGENHARIA TESTES E ANALISES TECNICAS'\n",
            " 'FABRICACAO DE PRODUTOS DE MINERAIS NAO METALICOS'\n",
            " 'AGENCIAS DE VIAGENS OPERADORES TURISTICOS E SERVICOS DE RESERVAS'\n",
            " 'FABRICACAO DE PRODUTOS DIVERSOS' 'COMERCIO VAREJISTA'\n",
            " 'SERVICOS DE ESCRITORIO DE APOIO ADMINISTRATIVO E OUTROS SERVICOS PRESTADOS PRINCIPALMENTE AS EMPRESAS'\n",
            " 'ALOJAMENTO' 'SERVICOS ESPECIALIZADOS PARA CONSTRUCAO'\n",
            " 'ATIVIDADES DE ORGANIZACOES ASSOCIATIVAS'\n",
            " 'MANUTENCAO REPARACAO E INSTALACAO DE MAQUINAS E EQUIPAMENTOS'\n",
            " 'ATIVIDADES DE PRESTACAO DE SERVICOS DE INFORMACAO'\n",
            " 'OUTRAS ATIVIDADES DE SERVICOS PESSOAIS' 'FABRICACAO DE PRODUTOS TEXTEIS'\n",
            " 'COMERCIO POR ATACADO EXCETO VEICULOS AUTOMOTORES E MOTOCICLETAS'\n",
            " 'TELECOMUNICACOES' 'ATIVIDADES DE ATENCAO A SAUDE HUMANA'\n",
            " 'COMERCIO E REPARACAO DE VEICULOS AUTOMOTORES E MOTOCICLETAS'\n",
            " 'ATIVIDADES ESPORTIVAS E DE RECREACAO E LAZER'\n",
            " 'SERVICOS PARA EDIFICIOS E ATIVIDADES PAISAGISTICAS'\n",
            " 'ALUGUEIS NAO IMOBILIARIOS E GESTAO DE ATIVOS INTANGIVEIS NAO FINANCEIROS'\n",
            " 'ARMAZENAMENTO E ATIVIDADES AUXILIARES DOS TRANSPORTES'\n",
            " 'EDICAO E EDICAO INTEGRADA A IMPRESSAO'\n",
            " 'ATIVIDADES ARTISTICAS CRIATIVAS E DE ESPETACULOS'\n",
            " 'CORREIO E OUTRAS ATIVIDADES DE ENTREGA'\n",
            " 'PREPARACAO DE COUROS E FABRICACAO DE ARTEFATOS DE COURO ARTIGOS PARA VIAGEM E CALCADOS'\n",
            " 'FABRICACAO DE PRODUTOS ALIMENTICIOS'\n",
            " 'OUTRAS ATIVIDADES PROFISSIONAIS CIENTIFICAS E TECNICAS'\n",
            " 'ATIVIDADES JURIDICAS DE CONTABILIDADE E DE AUDITORIA'\n",
            " 'ATIVIDADES DE SERVICOS FINANCEIROS' 'EDUCACAO' 'PESCA E AQUICULTURA'\n",
            " 'FABRICACAO DE PRODUTOS DE MADEIRA'\n",
            " 'ADMINISTRACAO PUBLICA DEFESA E SEGURIDADE SOCIAL'\n",
            " 'IMPRESSAO E REPRODUCAO DE GRAVACOES'\n",
            " 'ATIVIDADES DE VIGILANCIA SEGURANCA E INVESTIGACAO'\n",
            " 'PUBLICIDADE E PESQUISA DE MERCADO'\n",
            " 'CONFECCAO DE ARTIGOS DO VESTUARIO E ACESSORIOS' 'FABRICACAO DE MOVEIS'\n",
            " 'AGRICULTURA PECUARIA E SERVICOS RELACIONADOS'\n",
            " 'FABRICACAO DE PRODUTOS DE METAL EXCETO MAQUINAS E EQUIPAMENTOS'\n",
            " 'ATIVIDADES DE SEDES DE EMPRESAS E DE CONSULTORIA EM GESTAO EMPRESARIAL'\n",
            " 'SERVICOS DOMESTICOS' 'NULL' 'FABRICACAO DE PRODUTOS QUIMICOS'\n",
            " 'ATIVIDADES DE ATENCAO A SAUDE HUMANA INTEGRADAS COM ASSISTENCIA SOCIAL PRESTADAS EM RESIDENCIAS COLETIVAS E PARTICULARES'\n",
            " 'OBRAS DE INFRA ESTRUTURA' 'PRODUCAO FLORESTAL'\n",
            " 'ATIVIDADES CINEMATOGRAFICAS PRODUCAO DE VIDEOS E DE PROGRAMAS DE TELEVISAO GRAVACAO DE SOM E EDICAO DE MUSICA'\n",
            " 'ATIVIDADES DE RADIO E DE TELEVISAO'\n",
            " 'ATIVIDADES LIGADAS AO PATRIMONIO CULTURAL E AMBIENTAL'\n",
            " 'ATIVIDADES AUXILIARES DOS SERVICOS FINANCEIROS SEGUROS PREVIDENCIA COMPLEMENTAR E PLANOS DE SAUDE'\n",
            " 'ELETRICIDADE GAS E OUTRAS UTILIDADES' 'EXTRACAO DE MINERAIS METALICOS'\n",
            " 'TRANSPORTE AQUAVIARIO' 'FABRICACAO DE BEBIDAS'\n",
            " 'FABRICACAO DE MAQUINAS APARELHOS E MATERIAIS ELETRICOS'\n",
            " 'EXTRACAO DE MINERAIS NAO METALICOS'\n",
            " 'ATIVIDADES DOS SERVICOS DE TECNOLOGIA DA INFORMACAO'\n",
            " 'CAPTACAO TRATAMENTO E DISTRIBUICAO DE AGUA' 'ATIVIDADES VETERINARIAS'\n",
            " 'ATIVIDADES IMOBILIARIAS' 'SERVICOS DE ASSISTENCIA SOCIAL SEM ALOJAMENTO'\n",
            " 'COLETA TRATAMENTO E DISPOSICAO DE RESIDUOS RECUPERACAO DE MATERIAIS'\n",
            " 'ESGOTO E ATIVIDADES RELACIONADAS'\n",
            " 'FABRICACAO DE PRODUTOS DE BORRACHA E DE MATERIAL PLASTICO'\n",
            " 'SELECAO AGENCIAMENTO E LOCACAO DE MAO DE OBRA' 'TRANSPORTE AEREO'\n",
            " 'FABRICACAO DE VEICULOS AUTOMOTORES REBOQUES E CARROCERIAS'\n",
            " 'FABRICACAO DE CELULOSE PAPEL E PRODUTOS DE PAPEL'\n",
            " 'SEGUROS RESSEGUROS PREVIDENCIA COMPLEMENTAR E PLANOS DE SAUDE'\n",
            " 'FABRICACAO DE EQUIPAMENTOS DE INFORMATICA PRODUTOS ELETRONICOS E OPTICOS'\n",
            " 'METALURGIA' 'FABRICACAO DE MAQUINAS E EQUIPAMENTOS'\n",
            " 'ATIVIDADES DE EXPLORACAO DE JOGOS DE AZAR E APOSTAS'\n",
            " 'FABRICACAO DE OUTROS EQUIPAMENTOS DE TRANSPORTE EXCETO VEICULOS AUTOMOTORES'\n",
            " 'ORGANISMOS INTERNACIONAIS E OUTRAS INSTITUICOES EXTRATERRITORIAIS'\n",
            " 'FABRICACAO DE COQUE DE PRODUTOS DERIVADOS DO PETROLEO E DE BIOCOMBUSTIVEIS'\n",
            " 'PESQUISA E DESENVOLVIMENTO CIENTIFICO'\n",
            " 'ATIVIDADES DE APOIO A EXTRACAO DE MINERAIS'\n",
            " 'EXTRACAO DE PETROLEO E GAS NATURAL'\n",
            " 'FABRICACAO DE PRODUTOS FARMOQUIMICOS E FARMACEUTICOS'\n",
            " 'DESCONTAMINACAO E OUTROS SERVICOS DE GESTAO DE RESIDUOS'\n",
            " 'EXTRACAO DE CARVAO MINERAL' 'FABRICACAO DE PRODUTOS DO FUMO']\n",
            "\n",
            "nm_segmento\n",
            "['CONSTRUCAO' 'ALOJAMENTO E ALIMENTACAO'\n",
            " 'TRANSPORTE ARMAZENAGEM E CORREIO' 'OUTRAS ATIVIDADES DE SERVICOS'\n",
            " 'ATIVIDADES PROFISSIONAIS CIENTIFICAS E TECNICAS'\n",
            " 'INDUSTRIAS DE TRANSFORMACAO'\n",
            " 'ATIVIDADES ADMINISTRATIVAS E SERVICOS COMPLEMENTARES'\n",
            " 'COMERCIO; REPARACAO DE VEICULOS AUTOMOTORES E MOTOCICLETAS'\n",
            " 'INFORMACAO E COMUNICACAO' 'SAUDE HUMANA E SERVICOS SOCIAIS'\n",
            " 'ARTES CULTURA ESPORTE E RECREACAO'\n",
            " 'ATIVIDADES FINANCEIRAS DE SEGUROS E SERVICOS RELACIONADOS' 'EDUCACAO'\n",
            " 'AGRICULTURA PECUARIA PRODUCAO FLORESTAL PESCA E AQUICULTURA'\n",
            " 'ADMINISTRACAO PUBLICA DEFESA E SEGURIDADE SOCIAL' 'SERVICOS DOMESTICOS'\n",
            " 'NULL' 'ELETRICIDADE E GAS' 'INDUSTRIAS EXTRATIVAS'\n",
            " 'AGUA ESGOTO ATIVIDADES DE GESTAO DE RESIDUOS E DESCONTAMINACAO'\n",
            " 'ATIVIDADES IMOBILIARIAS'\n",
            " 'ORGANISMOS INTERNACIONAIS E OUTRAS INSTITUICOES EXTRATERRITORIAIS']\n",
            "\n",
            "sg_uf_matriz\n",
            "['RN' 'PI' 'AM' 'MA' 'RO' 'AC' 'DF' 'NULL' 'CE' 'PB' 'SP' 'PR' 'ES' 'PE'\n",
            " 'MG' 'RJ' 'RS' 'GO' 'SC' 'BA' 'MT' 'MS' 'PA' 'RR' 'TO' 'AP' 'SE' 'AL']\n",
            "\n",
            "de_saude_tributaria\n",
            "['VERDE' 'CINZA' 'AMARELO' 'LARANJA' 'NULL' 'AZUL' 'VERMELHO']\n",
            "\n",
            "de_saude_rescencia\n",
            "['ACIMA DE 1 ANO' 'ATE 1 ANO' 'NULL' 'SEM INFORMACAO' 'ATE 3 MESES'\n",
            " 'ATE 6 MESES']\n",
            "\n",
            "de_nivel_atividade\n",
            "['ALTA' 'BAIXA' 'MEDIA' 'NULL' 'MUITO BAIXA']\n",
            "\n",
            "nm_meso_regiao\n",
            "['LESTE POTIGUAR' 'CENTRO NORTE PIAUIENSE' 'CENTRO AMAZONENSE'\n",
            " 'OESTE POTIGUAR' 'NORTE MARANHENSE' 'NULL' 'NORTE PIAUIENSE'\n",
            " 'SUDOESTE PIAUIENSE' 'AGRESTE POTIGUAR' 'CENTRO MARANHENSE'\n",
            " 'OESTE MARANHENSE' 'VALE DO ACRE' 'CENTRAL POTIGUAR' 'LESTE MARANHENSE'\n",
            " 'SUDESTE PIAUIENSE' 'SUL MARANHENSE' 'SUL AMAZONENSE' 'VALE DO JURUA'\n",
            " 'SUDOESTE AMAZONENSE' 'NORTE AMAZONENSE']\n",
            "\n",
            "nm_micro_regiao\n",
            "['NATAL' 'TERESINA' 'MANAUS' 'PAU DOS FERROS'\n",
            " 'AGLOMERACAO URBANA DE SAO LUIS' 'PARINTINS' 'MOSSORO' 'UMARIZAL' 'NULL'\n",
            " 'COARI' 'LITORAL SUL' 'BAIXO PARNAIBA PIAUIENSE' 'SAO RAIMUNDO NONATO'\n",
            " 'AGRESTE POTIGUAR' 'MEDIO MEARIM' 'GURUPI' 'BRASILEIA' 'SERIDO OCIDENTAL'\n",
            " 'ALTO MEDIO GURGUEIA' 'CHAPADAS DO EXTREMO SUL PIAUIENSE' 'CHAPADINHA'\n",
            " 'PRESIDENTE DUTRA' 'ALTO MEARIM E GRAJAU' 'FLORIANO' 'CAXIAS'\n",
            " 'IMPERATRIZ' 'CHAPADAS DO ALTO ITAPECURU' 'CAMPO MAIOR' 'CODO'\n",
            " 'BAIXADA MARANHENSE' 'ITACOATIARA' 'RIO BRANCO' 'PINDARE' 'PIO IX'\n",
            " 'SERIDO ORIENTAL' 'LENCOIS MARANHENSES' 'LITORAL NORDESTE' 'VALE DO ACU'\n",
            " 'LITORAL PIAUIENSE' 'BORBOREMA POTIGUAR' 'CHAPADAS DAS MANGABEIRAS'\n",
            " 'RIO PRETO DA EVA' 'COELHO NETO' 'BOCA DO ACRE' 'BERTOLINIA' 'PICOS'\n",
            " 'CRUZEIRO DO SUL' 'MACAU' 'SERRA DE SANTANA' 'SERRA DE SAO MIGUEL' 'TEFE'\n",
            " 'PORTO FRANCO' 'ALTO MEDIO CANINDE' 'LITORAL OCIDENTAL MARANHENSE'\n",
            " 'VALENCA DO PIAUI' 'GERAIS DE BALSAS' 'MADEIRA' 'ALTO PARNAIBA PIAUIENSE'\n",
            " 'CHAPADA DO APODI' 'TARAUACA' 'ALTO SOLIMOES' 'MACAIBA' 'RIO NEGRO'\n",
            " 'BAIXO PARNAIBA MARANHENSE' 'PURUS' 'JURUA' 'BAIXA VERDE'\n",
            " 'MEDIO PARNAIBA PIAUIENSE' 'ITAPECURU MIRIM' 'SENA MADUREIRA' 'ROSARIO'\n",
            " 'ANGICOS' 'MEDIO OESTE' 'JAPURA']\n",
            "\n",
            "de_faixa_faturamento_estimado\n",
            "['DE R$ 1.500.000,01 A R$ 4.800.000,00' 'DE R$ 81.000,01 A R$ 360.000,00'\n",
            " 'ATE R$ 81.000,00' 'NULL' 'DE R$ 360.000,01 A R$ 1.500.000,00'\n",
            " 'SEM INFORMACAO' 'DE R$ 10.000.000,01 A R$ 30.000.000,00'\n",
            " 'DE R$ 4.800.000,01 A R$ 10.000.000,00'\n",
            " 'DE R$ 30.000.000,01 A R$ 100.000.000,00'\n",
            " 'DE R$ 300.000.000,01 A R$ 500.000.000,00'\n",
            " 'DE R$ 100.000.000,01 A R$ 300.000.000,00' 'ACIMA DE 1 BILHAO DE REAIS'\n",
            " 'DE R$ 500.000.000,01 A 1 BILHAO DE REAIS']\n",
            "\n",
            "de_faixa_faturamento_estimado_grupo\n",
            "['DE R$ 1.500.000,01 A R$ 4.800.000,00' 'DE R$ 81.000,01 A R$ 360.000,00'\n",
            " 'ATE R$ 81.000,00' 'NULL' 'DE R$ 360.000,01 A R$ 1.500.000,00'\n",
            " 'DE R$ 500.000.000,01 A 1 BILHAO DE REAIS' 'ACIMA DE 1 BILHAO DE REAIS'\n",
            " 'DE R$ 4.800.000,01 A R$ 10.000.000,00'\n",
            " 'DE R$ 10.000.000,01 A R$ 30.000.000,00'\n",
            " 'DE R$ 30.000.000,01 A R$ 100.000.000,00'\n",
            " 'DE R$ 300.000.000,01 A R$ 500.000.000,00'\n",
            " 'DE R$ 100.000.000,01 A R$ 300.000.000,00']\n",
            "\n"
          ],
          "name": "stdout"
        }
      ]
    },
    {
      "cell_type": "code",
      "metadata": {
        "id": "Pubr3CXxotnj",
        "colab_type": "code",
        "colab": {}
      },
      "source": [
        "class MultiColumnLabelEncoder:\n",
        "    def __init__(self,columns = None):\n",
        "        self.columns = columns # array of column names to encode\n",
        "\n",
        "    def fit(self,X,y=None):\n",
        "        return self # not relevant here\n",
        "\n",
        "    def transform(self,X):\n",
        "        '''\n",
        "        Transforms columns of X specified in self.columns using\n",
        "        LabelEncoder(). If no columns specified, transforms all\n",
        "        columns in X.\n",
        "        '''\n",
        "        output = X.copy()\n",
        "        if self.columns is not None:\n",
        "            for col in self.columns:\n",
        "                output[col] = LabelEncoder().fit_transform(output[col])\n",
        "        else:\n",
        "            for colname,col in output.iteritems():\n",
        "                output[colname] = LabelEncoder().fit_transform(col)\n",
        "        return output\n",
        "\n",
        "    def fit_transform(self,X,y=None):\n",
        "        return self.fit(X,y).transform(X)"
      ],
      "execution_count": 0,
      "outputs": []
    },
    {
      "cell_type": "code",
      "metadata": {
        "id": "yAF9bC48ouXb",
        "colab_type": "code",
        "colab": {}
      },
      "source": [
        "if not use_preprocs:\n",
        "    df = MultiColumnLabelEncoder(columns = temp).fit_transform(df)"
      ],
      "execution_count": 0,
      "outputs": []
    },
    {
      "cell_type": "code",
      "metadata": {
        "id": "gqN90UBYpLbf",
        "colab_type": "code",
        "colab": {}
      },
      "source": [
        "df = df.fillna(0)"
      ],
      "execution_count": 0,
      "outputs": []
    },
    {
      "cell_type": "code",
      "metadata": {
        "id": "pbo_nWDTWBsz",
        "colab_type": "code",
        "colab": {
          "base_uri": "https://localhost:8080/",
          "height": 439
        },
        "outputId": "79bc9b9c-5d78-4ad1-c59b-8a595e52fc18"
      },
      "source": [
        "df"
      ],
      "execution_count": 230,
      "outputs": [
        {
          "output_type": "execute_result",
          "data": {
            "text/html": [
              "<div>\n",
              "<style scoped>\n",
              "    .dataframe tbody tr th:only-of-type {\n",
              "        vertical-align: middle;\n",
              "    }\n",
              "\n",
              "    .dataframe tbody tr th {\n",
              "        vertical-align: top;\n",
              "    }\n",
              "\n",
              "    .dataframe thead th {\n",
              "        text-align: right;\n",
              "    }\n",
              "</style>\n",
              "<table border=\"1\" class=\"dataframe\">\n",
              "  <thead>\n",
              "    <tr style=\"text-align: right;\">\n",
              "      <th></th>\n",
              "      <th>id</th>\n",
              "      <th>fl_matriz</th>\n",
              "      <th>de_natureza_juridica</th>\n",
              "      <th>sg_uf</th>\n",
              "      <th>natureza_juridica_macro</th>\n",
              "      <th>de_ramo</th>\n",
              "      <th>setor</th>\n",
              "      <th>idade_empresa_anos</th>\n",
              "      <th>idade_emp_cat</th>\n",
              "      <th>fl_me</th>\n",
              "      <th>fl_sa</th>\n",
              "      <th>fl_epp</th>\n",
              "      <th>fl_mei</th>\n",
              "      <th>fl_ltda</th>\n",
              "      <th>fl_st_especial</th>\n",
              "      <th>fl_email</th>\n",
              "      <th>fl_telefone</th>\n",
              "      <th>fl_rm</th>\n",
              "      <th>nm_divisao</th>\n",
              "      <th>nm_segmento</th>\n",
              "      <th>fl_spa</th>\n",
              "      <th>fl_antt</th>\n",
              "      <th>fl_veiculo</th>\n",
              "      <th>fl_optante_simples</th>\n",
              "      <th>vl_total_veiculos_pesados_grupo</th>\n",
              "      <th>vl_total_veiculos_leves_grupo</th>\n",
              "      <th>fl_optante_simei</th>\n",
              "      <th>sg_uf_matriz</th>\n",
              "      <th>de_saude_tributaria</th>\n",
              "      <th>de_saude_rescencia</th>\n",
              "      <th>nu_meses_rescencia</th>\n",
              "      <th>de_nivel_atividade</th>\n",
              "      <th>fl_simples_irregular</th>\n",
              "      <th>empsetorcensitariofaixarendapopulacao</th>\n",
              "      <th>nm_meso_regiao</th>\n",
              "      <th>nm_micro_regiao</th>\n",
              "      <th>fl_passivel_iss</th>\n",
              "      <th>qt_socios</th>\n",
              "      <th>qt_socios_pf</th>\n",
              "      <th>qt_socios_pj</th>\n",
              "      <th>idade_media_socios</th>\n",
              "      <th>idade_maxima_socios</th>\n",
              "      <th>idade_minima_socios</th>\n",
              "      <th>qt_socios_st_regular</th>\n",
              "      <th>de_faixa_faturamento_estimado</th>\n",
              "      <th>de_faixa_faturamento_estimado_grupo</th>\n",
              "      <th>vl_faturamento_estimado_aux</th>\n",
              "      <th>vl_faturamento_estimado_grupo_aux</th>\n",
              "      <th>qt_filiais</th>\n",
              "      <th>portifolio</th>\n",
              "    </tr>\n",
              "  </thead>\n",
              "  <tbody>\n",
              "    <tr>\n",
              "      <th>0</th>\n",
              "      <td>a6984c3ae395090e3bee8ad63c3758b110de096d5d8195...</td>\n",
              "      <td>1</td>\n",
              "      <td>60</td>\n",
              "      <td>4</td>\n",
              "      <td>2</td>\n",
              "      <td>11</td>\n",
              "      <td>2</td>\n",
              "      <td>14.46</td>\n",
              "      <td>1</td>\n",
              "      <td>0</td>\n",
              "      <td>0</td>\n",
              "      <td>0</td>\n",
              "      <td>0</td>\n",
              "      <td>0</td>\n",
              "      <td>0</td>\n",
              "      <td>1</td>\n",
              "      <td>1</td>\n",
              "      <td>1</td>\n",
              "      <td>32</td>\n",
              "      <td>10</td>\n",
              "      <td>0</td>\n",
              "      <td>0</td>\n",
              "      <td>0</td>\n",
              "      <td>1</td>\n",
              "      <td>0.00</td>\n",
              "      <td>0.00</td>\n",
              "      <td>0</td>\n",
              "      <td>20</td>\n",
              "      <td>5</td>\n",
              "      <td>0</td>\n",
              "      <td>23.00</td>\n",
              "      <td>0</td>\n",
              "      <td>0</td>\n",
              "      <td>0.00</td>\n",
              "      <td>6</td>\n",
              "      <td>48</td>\n",
              "      <td>1</td>\n",
              "      <td>2.00</td>\n",
              "      <td>2.00</td>\n",
              "      <td>0.00</td>\n",
              "      <td>44.00</td>\n",
              "      <td>47.00</td>\n",
              "      <td>41.00</td>\n",
              "      <td>2.00</td>\n",
              "      <td>2</td>\n",
              "      <td>2</td>\n",
              "      <td>3132172.80</td>\n",
              "      <td>3132172.80</td>\n",
              "      <td>0</td>\n",
              "      <td>0.00</td>\n",
              "    </tr>\n",
              "    <tr>\n",
              "      <th>1</th>\n",
              "      <td>6178f41ade1365e44bc2c46654c2c8c0eaae27dcb476c4...</td>\n",
              "      <td>1</td>\n",
              "      <td>17</td>\n",
              "      <td>3</td>\n",
              "      <td>5</td>\n",
              "      <td>21</td>\n",
              "      <td>5</td>\n",
              "      <td>1.46</td>\n",
              "      <td>0</td>\n",
              "      <td>0</td>\n",
              "      <td>0</td>\n",
              "      <td>0</td>\n",
              "      <td>1</td>\n",
              "      <td>0</td>\n",
              "      <td>0</td>\n",
              "      <td>1</td>\n",
              "      <td>1</td>\n",
              "      <td>1</td>\n",
              "      <td>3</td>\n",
              "      <td>3</td>\n",
              "      <td>0</td>\n",
              "      <td>0</td>\n",
              "      <td>0</td>\n",
              "      <td>0</td>\n",
              "      <td>0.00</td>\n",
              "      <td>0.00</td>\n",
              "      <td>0</td>\n",
              "      <td>17</td>\n",
              "      <td>2</td>\n",
              "      <td>1</td>\n",
              "      <td>9.00</td>\n",
              "      <td>1</td>\n",
              "      <td>0</td>\n",
              "      <td>468.93</td>\n",
              "      <td>4</td>\n",
              "      <td>70</td>\n",
              "      <td>1</td>\n",
              "      <td>1.00</td>\n",
              "      <td>1.00</td>\n",
              "      <td>0.00</td>\n",
              "      <td>27.00</td>\n",
              "      <td>27.00</td>\n",
              "      <td>27.00</td>\n",
              "      <td>1.00</td>\n",
              "      <td>10</td>\n",
              "      <td>10</td>\n",
              "      <td>210000.00</td>\n",
              "      <td>210000.00</td>\n",
              "      <td>0</td>\n",
              "      <td>0.00</td>\n",
              "    </tr>\n",
              "    <tr>\n",
              "      <th>2</th>\n",
              "      <td>4a7e5069a397f12fdd7fd57111d6dc5d3ba558958efc02...</td>\n",
              "      <td>1</td>\n",
              "      <td>17</td>\n",
              "      <td>1</td>\n",
              "      <td>5</td>\n",
              "      <td>32</td>\n",
              "      <td>5</td>\n",
              "      <td>7.09</td>\n",
              "      <td>3</td>\n",
              "      <td>0</td>\n",
              "      <td>0</td>\n",
              "      <td>0</td>\n",
              "      <td>1</td>\n",
              "      <td>0</td>\n",
              "      <td>0</td>\n",
              "      <td>0</td>\n",
              "      <td>1</td>\n",
              "      <td>1</td>\n",
              "      <td>87</td>\n",
              "      <td>21</td>\n",
              "      <td>0</td>\n",
              "      <td>0</td>\n",
              "      <td>0</td>\n",
              "      <td>1</td>\n",
              "      <td>0.00</td>\n",
              "      <td>0.00</td>\n",
              "      <td>1</td>\n",
              "      <td>2</td>\n",
              "      <td>0</td>\n",
              "      <td>0</td>\n",
              "      <td>26.00</td>\n",
              "      <td>2</td>\n",
              "      <td>0</td>\n",
              "      <td>713.50</td>\n",
              "      <td>2</td>\n",
              "      <td>43</td>\n",
              "      <td>1</td>\n",
              "      <td>1.00</td>\n",
              "      <td>1.00</td>\n",
              "      <td>0.00</td>\n",
              "      <td>32.00</td>\n",
              "      <td>32.00</td>\n",
              "      <td>32.00</td>\n",
              "      <td>0.00</td>\n",
              "      <td>1</td>\n",
              "      <td>1</td>\n",
              "      <td>50000.00</td>\n",
              "      <td>50000.00</td>\n",
              "      <td>0</td>\n",
              "      <td>0.00</td>\n",
              "    </tr>\n",
              "    <tr>\n",
              "      <th>3</th>\n",
              "      <td>3348900fe63216a439d2e5238c79ddd46ede454df7b9d8...</td>\n",
              "      <td>1</td>\n",
              "      <td>17</td>\n",
              "      <td>1</td>\n",
              "      <td>5</td>\n",
              "      <td>25</td>\n",
              "      <td>5</td>\n",
              "      <td>6.51</td>\n",
              "      <td>3</td>\n",
              "      <td>0</td>\n",
              "      <td>0</td>\n",
              "      <td>0</td>\n",
              "      <td>0</td>\n",
              "      <td>0</td>\n",
              "      <td>0</td>\n",
              "      <td>1</td>\n",
              "      <td>1</td>\n",
              "      <td>1</td>\n",
              "      <td>75</td>\n",
              "      <td>18</td>\n",
              "      <td>0</td>\n",
              "      <td>0</td>\n",
              "      <td>0</td>\n",
              "      <td>1</td>\n",
              "      <td>0.00</td>\n",
              "      <td>0.00</td>\n",
              "      <td>0</td>\n",
              "      <td>2</td>\n",
              "      <td>0</td>\n",
              "      <td>0</td>\n",
              "      <td>26.00</td>\n",
              "      <td>2</td>\n",
              "      <td>0</td>\n",
              "      <td>475.73</td>\n",
              "      <td>2</td>\n",
              "      <td>43</td>\n",
              "      <td>1</td>\n",
              "      <td>1.00</td>\n",
              "      <td>1.00</td>\n",
              "      <td>0.00</td>\n",
              "      <td>36.00</td>\n",
              "      <td>36.00</td>\n",
              "      <td>36.00</td>\n",
              "      <td>1.00</td>\n",
              "      <td>10</td>\n",
              "      <td>10</td>\n",
              "      <td>210000.00</td>\n",
              "      <td>210000.00</td>\n",
              "      <td>0</td>\n",
              "      <td>0.00</td>\n",
              "    </tr>\n",
              "    <tr>\n",
              "      <th>4</th>\n",
              "      <td>1f9bcabc9d3173c1fe769899e4fac14b053037b953a1e4...</td>\n",
              "      <td>1</td>\n",
              "      <td>17</td>\n",
              "      <td>4</td>\n",
              "      <td>5</td>\n",
              "      <td>27</td>\n",
              "      <td>5</td>\n",
              "      <td>3.20</td>\n",
              "      <td>0</td>\n",
              "      <td>0</td>\n",
              "      <td>0</td>\n",
              "      <td>0</td>\n",
              "      <td>0</td>\n",
              "      <td>0</td>\n",
              "      <td>0</td>\n",
              "      <td>1</td>\n",
              "      <td>1</td>\n",
              "      <td>1</td>\n",
              "      <td>78</td>\n",
              "      <td>8</td>\n",
              "      <td>0</td>\n",
              "      <td>0</td>\n",
              "      <td>0</td>\n",
              "      <td>1</td>\n",
              "      <td>0.00</td>\n",
              "      <td>0.00</td>\n",
              "      <td>0</td>\n",
              "      <td>20</td>\n",
              "      <td>5</td>\n",
              "      <td>0</td>\n",
              "      <td>27.00</td>\n",
              "      <td>0</td>\n",
              "      <td>0</td>\n",
              "      <td>2874.04</td>\n",
              "      <td>6</td>\n",
              "      <td>48</td>\n",
              "      <td>1</td>\n",
              "      <td>1.00</td>\n",
              "      <td>1.00</td>\n",
              "      <td>0.00</td>\n",
              "      <td>0.00</td>\n",
              "      <td>0.00</td>\n",
              "      <td>0.00</td>\n",
              "      <td>0.00</td>\n",
              "      <td>10</td>\n",
              "      <td>10</td>\n",
              "      <td>210000.00</td>\n",
              "      <td>210000.00</td>\n",
              "      <td>0</td>\n",
              "      <td>0.00</td>\n",
              "    </tr>\n",
              "    <tr>\n",
              "      <th>...</th>\n",
              "      <td>...</td>\n",
              "      <td>...</td>\n",
              "      <td>...</td>\n",
              "      <td>...</td>\n",
              "      <td>...</td>\n",
              "      <td>...</td>\n",
              "      <td>...</td>\n",
              "      <td>...</td>\n",
              "      <td>...</td>\n",
              "      <td>...</td>\n",
              "      <td>...</td>\n",
              "      <td>...</td>\n",
              "      <td>...</td>\n",
              "      <td>...</td>\n",
              "      <td>...</td>\n",
              "      <td>...</td>\n",
              "      <td>...</td>\n",
              "      <td>...</td>\n",
              "      <td>...</td>\n",
              "      <td>...</td>\n",
              "      <td>...</td>\n",
              "      <td>...</td>\n",
              "      <td>...</td>\n",
              "      <td>...</td>\n",
              "      <td>...</td>\n",
              "      <td>...</td>\n",
              "      <td>...</td>\n",
              "      <td>...</td>\n",
              "      <td>...</td>\n",
              "      <td>...</td>\n",
              "      <td>...</td>\n",
              "      <td>...</td>\n",
              "      <td>...</td>\n",
              "      <td>...</td>\n",
              "      <td>...</td>\n",
              "      <td>...</td>\n",
              "      <td>...</td>\n",
              "      <td>...</td>\n",
              "      <td>...</td>\n",
              "      <td>...</td>\n",
              "      <td>...</td>\n",
              "      <td>...</td>\n",
              "      <td>...</td>\n",
              "      <td>...</td>\n",
              "      <td>...</td>\n",
              "      <td>...</td>\n",
              "      <td>...</td>\n",
              "      <td>...</td>\n",
              "      <td>...</td>\n",
              "      <td>...</td>\n",
              "    </tr>\n",
              "    <tr>\n",
              "      <th>462401</th>\n",
              "      <td>469ee5fc984d0bb60aa2f40cda4d003d7c9b963d149ed3...</td>\n",
              "      <td>1</td>\n",
              "      <td>17</td>\n",
              "      <td>4</td>\n",
              "      <td>5</td>\n",
              "      <td>3</td>\n",
              "      <td>1</td>\n",
              "      <td>3.25</td>\n",
              "      <td>0</td>\n",
              "      <td>0</td>\n",
              "      <td>0</td>\n",
              "      <td>0</td>\n",
              "      <td>1</td>\n",
              "      <td>0</td>\n",
              "      <td>0</td>\n",
              "      <td>1</td>\n",
              "      <td>1</td>\n",
              "      <td>0</td>\n",
              "      <td>28</td>\n",
              "      <td>9</td>\n",
              "      <td>0</td>\n",
              "      <td>0</td>\n",
              "      <td>0</td>\n",
              "      <td>1</td>\n",
              "      <td>0.00</td>\n",
              "      <td>0.00</td>\n",
              "      <td>1</td>\n",
              "      <td>20</td>\n",
              "      <td>5</td>\n",
              "      <td>0</td>\n",
              "      <td>22.00</td>\n",
              "      <td>0</td>\n",
              "      <td>0</td>\n",
              "      <td>585.63</td>\n",
              "      <td>0</td>\n",
              "      <td>14</td>\n",
              "      <td>0</td>\n",
              "      <td>1.00</td>\n",
              "      <td>1.00</td>\n",
              "      <td>0.00</td>\n",
              "      <td>31.00</td>\n",
              "      <td>31.00</td>\n",
              "      <td>31.00</td>\n",
              "      <td>1.00</td>\n",
              "      <td>1</td>\n",
              "      <td>1</td>\n",
              "      <td>50000.00</td>\n",
              "      <td>50000.00</td>\n",
              "      <td>0</td>\n",
              "      <td>0.00</td>\n",
              "    </tr>\n",
              "    <tr>\n",
              "      <th>462402</th>\n",
              "      <td>656f496e7e2fad708f0022d8ad97d2cb9344e839a5f3cb...</td>\n",
              "      <td>1</td>\n",
              "      <td>17</td>\n",
              "      <td>3</td>\n",
              "      <td>5</td>\n",
              "      <td>20</td>\n",
              "      <td>5</td>\n",
              "      <td>8.95</td>\n",
              "      <td>3</td>\n",
              "      <td>0</td>\n",
              "      <td>0</td>\n",
              "      <td>0</td>\n",
              "      <td>0</td>\n",
              "      <td>0</td>\n",
              "      <td>0</td>\n",
              "      <td>0</td>\n",
              "      <td>0</td>\n",
              "      <td>1</td>\n",
              "      <td>77</td>\n",
              "      <td>5</td>\n",
              "      <td>0</td>\n",
              "      <td>0</td>\n",
              "      <td>0</td>\n",
              "      <td>0</td>\n",
              "      <td>0.00</td>\n",
              "      <td>0.00</td>\n",
              "      <td>0</td>\n",
              "      <td>17</td>\n",
              "      <td>3</td>\n",
              "      <td>0</td>\n",
              "      <td>23.00</td>\n",
              "      <td>3</td>\n",
              "      <td>0</td>\n",
              "      <td>2429.89</td>\n",
              "      <td>4</td>\n",
              "      <td>70</td>\n",
              "      <td>1</td>\n",
              "      <td>0.00</td>\n",
              "      <td>0.00</td>\n",
              "      <td>0.00</td>\n",
              "      <td>0.00</td>\n",
              "      <td>0.00</td>\n",
              "      <td>0.00</td>\n",
              "      <td>0.00</td>\n",
              "      <td>10</td>\n",
              "      <td>10</td>\n",
              "      <td>210000.00</td>\n",
              "      <td>210000.00</td>\n",
              "      <td>0</td>\n",
              "      <td>0.00</td>\n",
              "    </tr>\n",
              "    <tr>\n",
              "      <th>462403</th>\n",
              "      <td>9b933a5cf2149d1338f00fb459d34a16b9b0f2e8d3e8e1...</td>\n",
              "      <td>1</td>\n",
              "      <td>0</td>\n",
              "      <td>2</td>\n",
              "      <td>3</td>\n",
              "      <td>24</td>\n",
              "      <td>5</td>\n",
              "      <td>20.75</td>\n",
              "      <td>5</td>\n",
              "      <td>0</td>\n",
              "      <td>0</td>\n",
              "      <td>0</td>\n",
              "      <td>0</td>\n",
              "      <td>0</td>\n",
              "      <td>0</td>\n",
              "      <td>0</td>\n",
              "      <td>0</td>\n",
              "      <td>1</td>\n",
              "      <td>11</td>\n",
              "      <td>19</td>\n",
              "      <td>0</td>\n",
              "      <td>0</td>\n",
              "      <td>0</td>\n",
              "      <td>0</td>\n",
              "      <td>0.00</td>\n",
              "      <td>0.00</td>\n",
              "      <td>0</td>\n",
              "      <td>9</td>\n",
              "      <td>0</td>\n",
              "      <td>0</td>\n",
              "      <td>23.00</td>\n",
              "      <td>2</td>\n",
              "      <td>0</td>\n",
              "      <td>3150.81</td>\n",
              "      <td>8</td>\n",
              "      <td>0</td>\n",
              "      <td>1</td>\n",
              "      <td>1.00</td>\n",
              "      <td>1.00</td>\n",
              "      <td>0.00</td>\n",
              "      <td>74.00</td>\n",
              "      <td>74.00</td>\n",
              "      <td>74.00</td>\n",
              "      <td>1.00</td>\n",
              "      <td>10</td>\n",
              "      <td>10</td>\n",
              "      <td>210000.00</td>\n",
              "      <td>210000.00</td>\n",
              "      <td>0</td>\n",
              "      <td>0.00</td>\n",
              "    </tr>\n",
              "    <tr>\n",
              "      <th>462404</th>\n",
              "      <td>84db0f17467cf4f02439e01ade57150b6ac59d9dae53ed...</td>\n",
              "      <td>1</td>\n",
              "      <td>60</td>\n",
              "      <td>5</td>\n",
              "      <td>2</td>\n",
              "      <td>5</td>\n",
              "      <td>1</td>\n",
              "      <td>1.91</td>\n",
              "      <td>0</td>\n",
              "      <td>0</td>\n",
              "      <td>0</td>\n",
              "      <td>0</td>\n",
              "      <td>0</td>\n",
              "      <td>0</td>\n",
              "      <td>0</td>\n",
              "      <td>1</td>\n",
              "      <td>0</td>\n",
              "      <td>0</td>\n",
              "      <td>30</td>\n",
              "      <td>9</td>\n",
              "      <td>0</td>\n",
              "      <td>0</td>\n",
              "      <td>0</td>\n",
              "      <td>0</td>\n",
              "      <td>0.00</td>\n",
              "      <td>0.00</td>\n",
              "      <td>0</td>\n",
              "      <td>21</td>\n",
              "      <td>5</td>\n",
              "      <td>0</td>\n",
              "      <td>20.00</td>\n",
              "      <td>0</td>\n",
              "      <td>0</td>\n",
              "      <td>2752.49</td>\n",
              "      <td>10</td>\n",
              "      <td>49</td>\n",
              "      <td>0</td>\n",
              "      <td>5.00</td>\n",
              "      <td>5.00</td>\n",
              "      <td>0.00</td>\n",
              "      <td>31.67</td>\n",
              "      <td>39.00</td>\n",
              "      <td>25.00</td>\n",
              "      <td>3.00</td>\n",
              "      <td>7</td>\n",
              "      <td>7</td>\n",
              "      <td>432734.40</td>\n",
              "      <td>432734.40</td>\n",
              "      <td>0</td>\n",
              "      <td>0.00</td>\n",
              "    </tr>\n",
              "    <tr>\n",
              "      <th>462405</th>\n",
              "      <td>3d43e934e150b86be1e67524f5ba1018b27da9ef25566d...</td>\n",
              "      <td>1</td>\n",
              "      <td>17</td>\n",
              "      <td>5</td>\n",
              "      <td>5</td>\n",
              "      <td>32</td>\n",
              "      <td>5</td>\n",
              "      <td>0.80</td>\n",
              "      <td>4</td>\n",
              "      <td>0</td>\n",
              "      <td>0</td>\n",
              "      <td>0</td>\n",
              "      <td>1</td>\n",
              "      <td>0</td>\n",
              "      <td>0</td>\n",
              "      <td>1</td>\n",
              "      <td>1</td>\n",
              "      <td>0</td>\n",
              "      <td>33</td>\n",
              "      <td>21</td>\n",
              "      <td>0</td>\n",
              "      <td>0</td>\n",
              "      <td>0</td>\n",
              "      <td>0</td>\n",
              "      <td>0.00</td>\n",
              "      <td>0.00</td>\n",
              "      <td>0</td>\n",
              "      <td>21</td>\n",
              "      <td>2</td>\n",
              "      <td>5</td>\n",
              "      <td>0.00</td>\n",
              "      <td>1</td>\n",
              "      <td>0</td>\n",
              "      <td>0.00</td>\n",
              "      <td>10</td>\n",
              "      <td>49</td>\n",
              "      <td>1</td>\n",
              "      <td>1.00</td>\n",
              "      <td>1.00</td>\n",
              "      <td>0.00</td>\n",
              "      <td>44.00</td>\n",
              "      <td>44.00</td>\n",
              "      <td>44.00</td>\n",
              "      <td>1.00</td>\n",
              "      <td>10</td>\n",
              "      <td>10</td>\n",
              "      <td>210000.00</td>\n",
              "      <td>210000.00</td>\n",
              "      <td>0</td>\n",
              "      <td>0.00</td>\n",
              "    </tr>\n",
              "  </tbody>\n",
              "</table>\n",
              "<p>462406 rows × 50 columns</p>\n",
              "</div>"
            ],
            "text/plain": [
              "                                                       id  fl_matriz  \\\n",
              "0       a6984c3ae395090e3bee8ad63c3758b110de096d5d8195...          1   \n",
              "1       6178f41ade1365e44bc2c46654c2c8c0eaae27dcb476c4...          1   \n",
              "2       4a7e5069a397f12fdd7fd57111d6dc5d3ba558958efc02...          1   \n",
              "3       3348900fe63216a439d2e5238c79ddd46ede454df7b9d8...          1   \n",
              "4       1f9bcabc9d3173c1fe769899e4fac14b053037b953a1e4...          1   \n",
              "...                                                   ...        ...   \n",
              "462401  469ee5fc984d0bb60aa2f40cda4d003d7c9b963d149ed3...          1   \n",
              "462402  656f496e7e2fad708f0022d8ad97d2cb9344e839a5f3cb...          1   \n",
              "462403  9b933a5cf2149d1338f00fb459d34a16b9b0f2e8d3e8e1...          1   \n",
              "462404  84db0f17467cf4f02439e01ade57150b6ac59d9dae53ed...          1   \n",
              "462405  3d43e934e150b86be1e67524f5ba1018b27da9ef25566d...          1   \n",
              "\n",
              "        de_natureza_juridica  sg_uf  natureza_juridica_macro  de_ramo  setor  \\\n",
              "0                         60      4                        2       11      2   \n",
              "1                         17      3                        5       21      5   \n",
              "2                         17      1                        5       32      5   \n",
              "3                         17      1                        5       25      5   \n",
              "4                         17      4                        5       27      5   \n",
              "...                      ...    ...                      ...      ...    ...   \n",
              "462401                    17      4                        5        3      1   \n",
              "462402                    17      3                        5       20      5   \n",
              "462403                     0      2                        3       24      5   \n",
              "462404                    60      5                        2        5      1   \n",
              "462405                    17      5                        5       32      5   \n",
              "\n",
              "        idade_empresa_anos  idade_emp_cat  fl_me  fl_sa  fl_epp  fl_mei  \\\n",
              "0                    14.46              1      0      0       0       0   \n",
              "1                     1.46              0      0      0       0       1   \n",
              "2                     7.09              3      0      0       0       1   \n",
              "3                     6.51              3      0      0       0       0   \n",
              "4                     3.20              0      0      0       0       0   \n",
              "...                    ...            ...    ...    ...     ...     ...   \n",
              "462401                3.25              0      0      0       0       1   \n",
              "462402                8.95              3      0      0       0       0   \n",
              "462403               20.75              5      0      0       0       0   \n",
              "462404                1.91              0      0      0       0       0   \n",
              "462405                0.80              4      0      0       0       1   \n",
              "\n",
              "        fl_ltda  fl_st_especial  fl_email  fl_telefone  fl_rm  nm_divisao  \\\n",
              "0             0               0         1            1      1          32   \n",
              "1             0               0         1            1      1           3   \n",
              "2             0               0         0            1      1          87   \n",
              "3             0               0         1            1      1          75   \n",
              "4             0               0         1            1      1          78   \n",
              "...         ...             ...       ...          ...    ...         ...   \n",
              "462401        0               0         1            1      0          28   \n",
              "462402        0               0         0            0      1          77   \n",
              "462403        0               0         0            0      1          11   \n",
              "462404        0               0         1            0      0          30   \n",
              "462405        0               0         1            1      0          33   \n",
              "\n",
              "        nm_segmento  fl_spa  fl_antt  fl_veiculo  fl_optante_simples  \\\n",
              "0                10       0        0           0                   1   \n",
              "1                 3       0        0           0                   0   \n",
              "2                21       0        0           0                   1   \n",
              "3                18       0        0           0                   1   \n",
              "4                 8       0        0           0                   1   \n",
              "...             ...     ...      ...         ...                 ...   \n",
              "462401            9       0        0           0                   1   \n",
              "462402            5       0        0           0                   0   \n",
              "462403           19       0        0           0                   0   \n",
              "462404            9       0        0           0                   0   \n",
              "462405           21       0        0           0                   0   \n",
              "\n",
              "        vl_total_veiculos_pesados_grupo  vl_total_veiculos_leves_grupo  \\\n",
              "0                                  0.00                           0.00   \n",
              "1                                  0.00                           0.00   \n",
              "2                                  0.00                           0.00   \n",
              "3                                  0.00                           0.00   \n",
              "4                                  0.00                           0.00   \n",
              "...                                 ...                            ...   \n",
              "462401                             0.00                           0.00   \n",
              "462402                             0.00                           0.00   \n",
              "462403                             0.00                           0.00   \n",
              "462404                             0.00                           0.00   \n",
              "462405                             0.00                           0.00   \n",
              "\n",
              "        fl_optante_simei  sg_uf_matriz  de_saude_tributaria  \\\n",
              "0                      0            20                    5   \n",
              "1                      0            17                    2   \n",
              "2                      1             2                    0   \n",
              "3                      0             2                    0   \n",
              "4                      0            20                    5   \n",
              "...                  ...           ...                  ...   \n",
              "462401                 1            20                    5   \n",
              "462402                 0            17                    3   \n",
              "462403                 0             9                    0   \n",
              "462404                 0            21                    5   \n",
              "462405                 0            21                    2   \n",
              "\n",
              "        de_saude_rescencia  nu_meses_rescencia  de_nivel_atividade  \\\n",
              "0                        0               23.00                   0   \n",
              "1                        1                9.00                   1   \n",
              "2                        0               26.00                   2   \n",
              "3                        0               26.00                   2   \n",
              "4                        0               27.00                   0   \n",
              "...                    ...                 ...                 ...   \n",
              "462401                   0               22.00                   0   \n",
              "462402                   0               23.00                   3   \n",
              "462403                   0               23.00                   2   \n",
              "462404                   0               20.00                   0   \n",
              "462405                   5                0.00                   1   \n",
              "\n",
              "        fl_simples_irregular  empsetorcensitariofaixarendapopulacao  \\\n",
              "0                          0                                   0.00   \n",
              "1                          0                                 468.93   \n",
              "2                          0                                 713.50   \n",
              "3                          0                                 475.73   \n",
              "4                          0                                2874.04   \n",
              "...                      ...                                    ...   \n",
              "462401                     0                                 585.63   \n",
              "462402                     0                                2429.89   \n",
              "462403                     0                                3150.81   \n",
              "462404                     0                                2752.49   \n",
              "462405                     0                                   0.00   \n",
              "\n",
              "        nm_meso_regiao  nm_micro_regiao  fl_passivel_iss  qt_socios  \\\n",
              "0                    6               48                1       2.00   \n",
              "1                    4               70                1       1.00   \n",
              "2                    2               43                1       1.00   \n",
              "3                    2               43                1       1.00   \n",
              "4                    6               48                1       1.00   \n",
              "...                ...              ...              ...        ...   \n",
              "462401               0               14                0       1.00   \n",
              "462402               4               70                1       0.00   \n",
              "462403               8                0                1       1.00   \n",
              "462404              10               49                0       5.00   \n",
              "462405              10               49                1       1.00   \n",
              "\n",
              "        qt_socios_pf  qt_socios_pj  idade_media_socios  idade_maxima_socios  \\\n",
              "0               2.00          0.00               44.00                47.00   \n",
              "1               1.00          0.00               27.00                27.00   \n",
              "2               1.00          0.00               32.00                32.00   \n",
              "3               1.00          0.00               36.00                36.00   \n",
              "4               1.00          0.00                0.00                 0.00   \n",
              "...              ...           ...                 ...                  ...   \n",
              "462401          1.00          0.00               31.00                31.00   \n",
              "462402          0.00          0.00                0.00                 0.00   \n",
              "462403          1.00          0.00               74.00                74.00   \n",
              "462404          5.00          0.00               31.67                39.00   \n",
              "462405          1.00          0.00               44.00                44.00   \n",
              "\n",
              "        idade_minima_socios  qt_socios_st_regular  \\\n",
              "0                     41.00                  2.00   \n",
              "1                     27.00                  1.00   \n",
              "2                     32.00                  0.00   \n",
              "3                     36.00                  1.00   \n",
              "4                      0.00                  0.00   \n",
              "...                     ...                   ...   \n",
              "462401                31.00                  1.00   \n",
              "462402                 0.00                  0.00   \n",
              "462403                74.00                  1.00   \n",
              "462404                25.00                  3.00   \n",
              "462405                44.00                  1.00   \n",
              "\n",
              "        de_faixa_faturamento_estimado  de_faixa_faturamento_estimado_grupo  \\\n",
              "0                                   2                                    2   \n",
              "1                                  10                                   10   \n",
              "2                                   1                                    1   \n",
              "3                                  10                                   10   \n",
              "4                                  10                                   10   \n",
              "...                               ...                                  ...   \n",
              "462401                              1                                    1   \n",
              "462402                             10                                   10   \n",
              "462403                             10                                   10   \n",
              "462404                              7                                    7   \n",
              "462405                             10                                   10   \n",
              "\n",
              "        vl_faturamento_estimado_aux  vl_faturamento_estimado_grupo_aux  \\\n",
              "0                        3132172.80                         3132172.80   \n",
              "1                         210000.00                          210000.00   \n",
              "2                          50000.00                           50000.00   \n",
              "3                         210000.00                          210000.00   \n",
              "4                         210000.00                          210000.00   \n",
              "...                             ...                                ...   \n",
              "462401                     50000.00                           50000.00   \n",
              "462402                    210000.00                          210000.00   \n",
              "462403                    210000.00                          210000.00   \n",
              "462404                    432734.40                          432734.40   \n",
              "462405                    210000.00                          210000.00   \n",
              "\n",
              "        qt_filiais  portifolio  \n",
              "0                0        0.00  \n",
              "1                0        0.00  \n",
              "2                0        0.00  \n",
              "3                0        0.00  \n",
              "4                0        0.00  \n",
              "...            ...         ...  \n",
              "462401           0        0.00  \n",
              "462402           0        0.00  \n",
              "462403           0        0.00  \n",
              "462404           0        0.00  \n",
              "462405           0        0.00  \n",
              "\n",
              "[462406 rows x 50 columns]"
            ]
          },
          "metadata": {
            "tags": []
          },
          "execution_count": 230
        }
      ]
    },
    {
      "cell_type": "code",
      "metadata": {
        "id": "7J9QJcRB4MZu",
        "colab_type": "code",
        "outputId": "87fceffa-84cc-4cb5-a8a8-710db9ead669",
        "colab": {
          "base_uri": "https://localhost:8080/",
          "height": 297
        }
      },
      "source": [
        "df.groupby('de_nivel_atividade')['de_nivel_atividade'].value_counts().plot()"
      ],
      "execution_count": 231,
      "outputs": [
        {
          "output_type": "execute_result",
          "data": {
            "text/plain": [
              "<matplotlib.axes._subplots.AxesSubplot at 0x7febd3a70cf8>"
            ]
          },
          "metadata": {
            "tags": []
          },
          "execution_count": 231
        },
        {
          "output_type": "display_data",
          "data": {
            "image/png": "[encoded data removed]",
            "text/plain": [
              "<Figure size 432x288 with 1 Axes>"
            ]
          },
          "metadata": {
            "tags": [],
            "needs_background": "light"
          }
        }
      ]
    },
    {
      "cell_type": "code",
      "metadata": {
        "id": "KGfFxfzc4ZY-",
        "colab_type": "code",
        "outputId": "00c80861-7687-4c27-e849-f59006caba0a",
        "colab": {
          "base_uri": "https://localhost:8080/",
          "height": 266
        }
      },
      "source": [
        "df['idade_empresa_anos'].plot(kind=\"box\");"
      ],
      "execution_count": 232,
      "outputs": [
        {
          "output_type": "display_data",
          "data": {
            "image/png": "[encoded data removed]",
            "text/plain": [
              "<Figure size 432x288 with 1 Axes>"
            ]
          },
          "metadata": {
            "tags": [],
            "needs_background": "light"
          }
        }
      ]
    },
    {
      "cell_type": "code",
      "metadata": {
        "id": "weC7KTmD4lRw",
        "colab_type": "code",
        "outputId": "2231689e-cfec-4062-9cc8-cc240328ee38",
        "colab": {
          "base_uri": "https://localhost:8080/",
          "height": 402
        }
      },
      "source": [
        "df[['id',\n",
        "    'nm_segmento']].groupby(['nm_segmento']).count().plot.pie(y='id',\n",
        "                                                  fontsize=8,\n",
        "                                                  title='Quantidade por Segmento',\n",
        "                                                  figsize=(5, 5))"
      ],
      "execution_count": 233,
      "outputs": [
        {
          "output_type": "execute_result",
          "data": {
            "text/plain": [
              "<matplotlib.axes._subplots.AxesSubplot at 0x7febd6f2f0f0>"
            ]
          },
          "metadata": {
            "tags": []
          },
          "execution_count": 233
        },
        {
          "output_type": "display_data",
          "data": {
            "image/png": "[encoded data removed]",
            "text/plain": [
              "<Figure size 360x360 with 1 Axes>"
            ]
          },
          "metadata": {
            "tags": []
          }
        }
      ]
    },
    {
      "cell_type": "code",
      "metadata": {
        "id": "a9RAMGZZbFq_",
        "colab_type": "code",
        "outputId": "44078a9c-112f-488c-f762-d17edd4338f4",
        "colab": {
          "base_uri": "https://localhost:8080/",
          "height": 884
        }
      },
      "source": [
        "df.dtypes"
      ],
      "execution_count": 234,
      "outputs": [
        {
          "output_type": "execute_result",
          "data": {
            "text/plain": [
              "id                                        object\n",
              "fl_matriz                                  int64\n",
              "de_natureza_juridica                       int64\n",
              "sg_uf                                      int64\n",
              "natureza_juridica_macro                    int64\n",
              "de_ramo                                    int64\n",
              "setor                                      int64\n",
              "idade_empresa_anos                       float64\n",
              "idade_emp_cat                              int64\n",
              "fl_me                                      int64\n",
              "fl_sa                                      int64\n",
              "fl_epp                                     int64\n",
              "fl_mei                                     int64\n",
              "fl_ltda                                    int64\n",
              "fl_st_especial                             int64\n",
              "fl_email                                   int64\n",
              "fl_telefone                                int64\n",
              "fl_rm                                      int64\n",
              "nm_divisao                                 int64\n",
              "nm_segmento                                int64\n",
              "fl_spa                                     int64\n",
              "fl_antt                                    int64\n",
              "fl_veiculo                                 int64\n",
              "fl_optante_simples                         int64\n",
              "vl_total_veiculos_pesados_grupo          float64\n",
              "vl_total_veiculos_leves_grupo            float64\n",
              "fl_optante_simei                           int64\n",
              "sg_uf_matriz                               int64\n",
              "de_saude_tributaria                        int64\n",
              "de_saude_rescencia                         int64\n",
              "nu_meses_rescencia                       float64\n",
              "de_nivel_atividade                         int64\n",
              "fl_simples_irregular                       int64\n",
              "empsetorcensitariofaixarendapopulacao    float64\n",
              "nm_meso_regiao                             int64\n",
              "nm_micro_regiao                            int64\n",
              "fl_passivel_iss                            int64\n",
              "qt_socios                                float64\n",
              "qt_socios_pf                             float64\n",
              "qt_socios_pj                             float64\n",
              "idade_media_socios                       float64\n",
              "idade_maxima_socios                      float64\n",
              "idade_minima_socios                      float64\n",
              "qt_socios_st_regular                     float64\n",
              "de_faixa_faturamento_estimado              int64\n",
              "de_faixa_faturamento_estimado_grupo        int64\n",
              "vl_faturamento_estimado_aux              float64\n",
              "vl_faturamento_estimado_grupo_aux        float64\n",
              "qt_filiais                                 int64\n",
              "portifolio                               float64\n",
              "dtype: object"
            ]
          },
          "metadata": {
            "tags": []
          },
          "execution_count": 234
        }
      ]
    },
    {
      "cell_type": "markdown",
      "metadata": {
        "id": "zmnyCWhoYUdN",
        "colab_type": "text"
      },
      "source": [
        "# Pipeline"
      ]
    },
    {
      "cell_type": "code",
      "metadata": {
        "id": "SmKnjIeHoQqB",
        "colab_type": "code",
        "colab": {}
      },
      "source": [
        "numeric_transformer = Pipeline(steps=[\n",
        "    ('log', FunctionTransformer(np.log1p))\n",
        "])"
      ],
      "execution_count": 0,
      "outputs": []
    },
    {
      "cell_type": "code",
      "metadata": {
        "id": "P1uAvbK1osGi",
        "colab_type": "code",
        "colab": {}
      },
      "source": [
        "# ordinal_transformer = Pipeline(steps=[\n",
        "#     ('he', ce.HelmertEncoder())\n",
        "# ])"
      ],
      "execution_count": 0,
      "outputs": []
    },
    {
      "cell_type": "code",
      "metadata": {
        "id": "L9gDgcM4oqQ6",
        "colab_type": "code",
        "colab": {}
      },
      "source": [
        "categorical_transformer = Pipeline(steps=[\n",
        "    ('onehot', OneHotEncoder(sparse=False, handle_unknown='ignore'))\n",
        "])"
      ],
      "execution_count": 0,
      "outputs": []
    },
    {
      "cell_type": "code",
      "metadata": {
        "id": "tGuKX8_Xouqm",
        "colab_type": "code",
        "colab": {}
      },
      "source": [
        "column_transformer = ColumnTransformer(\n",
        "    transformers=[\n",
        "        ('num', numeric_transformer, df[df['portifolio'] > 0].select_dtypes('float64').columns[:-1]),\n",
        "        ('cat', categorical_transformer, df[df['portifolio'] > 0].select_dtypes('object').columns[1:]),\n",
        "        # ('ord', ordinal_transformer, df.select_dtypes('object').columns[1:]),\n",
        "    ],\n",
        "    remainder='passthrough'\n",
        ")"
      ],
      "execution_count": 0,
      "outputs": []
    },
    {
      "cell_type": "code",
      "metadata": {
        "id": "CTEaMXdtetdT",
        "colab_type": "code",
        "colab": {}
      },
      "source": [
        "pre_processor = Pipeline(steps=[\n",
        "    ('col', column_transformer)\n",
        "])"
      ],
      "execution_count": 0,
      "outputs": []
    },
    {
      "cell_type": "code",
      "metadata": {
        "id": "B-erzlTonbUi",
        "colab_type": "code",
        "outputId": "04002124-4203-4d64-9d37-40bee8abb1ce",
        "colab": {
          "base_uri": "https://localhost:8080/",
          "height": 884
        }
      },
      "source": [
        "df.dtypes"
      ],
      "execution_count": 240,
      "outputs": [
        {
          "output_type": "execute_result",
          "data": {
            "text/plain": [
              "id                                        object\n",
              "fl_matriz                                  int64\n",
              "de_natureza_juridica                       int64\n",
              "sg_uf                                      int64\n",
              "natureza_juridica_macro                    int64\n",
              "de_ramo                                    int64\n",
              "setor                                      int64\n",
              "idade_empresa_anos                       float64\n",
              "idade_emp_cat                              int64\n",
              "fl_me                                      int64\n",
              "fl_sa                                      int64\n",
              "fl_epp                                     int64\n",
              "fl_mei                                     int64\n",
              "fl_ltda                                    int64\n",
              "fl_st_especial                             int64\n",
              "fl_email                                   int64\n",
              "fl_telefone                                int64\n",
              "fl_rm                                      int64\n",
              "nm_divisao                                 int64\n",
              "nm_segmento                                int64\n",
              "fl_spa                                     int64\n",
              "fl_antt                                    int64\n",
              "fl_veiculo                                 int64\n",
              "fl_optante_simples                         int64\n",
              "vl_total_veiculos_pesados_grupo          float64\n",
              "vl_total_veiculos_leves_grupo            float64\n",
              "fl_optante_simei                           int64\n",
              "sg_uf_matriz                               int64\n",
              "de_saude_tributaria                        int64\n",
              "de_saude_rescencia                         int64\n",
              "nu_meses_rescencia                       float64\n",
              "de_nivel_atividade                         int64\n",
              "fl_simples_irregular                       int64\n",
              "empsetorcensitariofaixarendapopulacao    float64\n",
              "nm_meso_regiao                             int64\n",
              "nm_micro_regiao                            int64\n",
              "fl_passivel_iss                            int64\n",
              "qt_socios                                float64\n",
              "qt_socios_pf                             float64\n",
              "qt_socios_pj                             float64\n",
              "idade_media_socios                       float64\n",
              "idade_maxima_socios                      float64\n",
              "idade_minima_socios                      float64\n",
              "qt_socios_st_regular                     float64\n",
              "de_faixa_faturamento_estimado              int64\n",
              "de_faixa_faturamento_estimado_grupo        int64\n",
              "vl_faturamento_estimado_aux              float64\n",
              "vl_faturamento_estimado_grupo_aux        float64\n",
              "qt_filiais                                 int64\n",
              "portifolio                               float64\n",
              "dtype: object"
            ]
          },
          "metadata": {
            "tags": []
          },
          "execution_count": 240
        }
      ]
    },
    {
      "cell_type": "code",
      "metadata": {
        "id": "MpA8XDxE5IzJ",
        "colab_type": "code",
        "colab": {}
      },
      "source": [
        ""
      ],
      "execution_count": 0,
      "outputs": []
    },
    {
      "cell_type": "code",
      "metadata": {
        "id": "MD1jgzoUo87V",
        "colab_type": "code",
        "colab": {}
      },
      "source": [
        ""
      ],
      "execution_count": 0,
      "outputs": []
    },
    {
      "cell_type": "markdown",
      "metadata": {
        "id": "HZyoLzJ2YXKc",
        "colab_type": "text"
      },
      "source": [
        "# Split"
      ]
    },
    {
      "cell_type": "code",
      "metadata": {
        "id": "xOaYnba35Tg2",
        "colab_type": "code",
        "colab": {}
      },
      "source": [
        "temp = df[df['portifolio'] > 0]"
      ],
      "execution_count": 0,
      "outputs": []
    },
    {
      "cell_type": "code",
      "metadata": {
        "id": "T96nNuF_qekH",
        "colab_type": "code",
        "outputId": "152c6f76-83d1-43d0-e1c0-261c05a1183e",
        "colab": {
          "base_uri": "https://localhost:8080/",
          "height": 884
        }
      },
      "source": [
        "temp[temp['portifolio'] == 0].dtypes"
      ],
      "execution_count": 242,
      "outputs": [
        {
          "output_type": "execute_result",
          "data": {
            "text/plain": [
              "id                                        object\n",
              "fl_matriz                                  int64\n",
              "de_natureza_juridica                       int64\n",
              "sg_uf                                      int64\n",
              "natureza_juridica_macro                    int64\n",
              "de_ramo                                    int64\n",
              "setor                                      int64\n",
              "idade_empresa_anos                       float64\n",
              "idade_emp_cat                              int64\n",
              "fl_me                                      int64\n",
              "fl_sa                                      int64\n",
              "fl_epp                                     int64\n",
              "fl_mei                                     int64\n",
              "fl_ltda                                    int64\n",
              "fl_st_especial                             int64\n",
              "fl_email                                   int64\n",
              "fl_telefone                                int64\n",
              "fl_rm                                      int64\n",
              "nm_divisao                                 int64\n",
              "nm_segmento                                int64\n",
              "fl_spa                                     int64\n",
              "fl_antt                                    int64\n",
              "fl_veiculo                                 int64\n",
              "fl_optante_simples                         int64\n",
              "vl_total_veiculos_pesados_grupo          float64\n",
              "vl_total_veiculos_leves_grupo            float64\n",
              "fl_optante_simei                           int64\n",
              "sg_uf_matriz                               int64\n",
              "de_saude_tributaria                        int64\n",
              "de_saude_rescencia                         int64\n",
              "nu_meses_rescencia                       float64\n",
              "de_nivel_atividade                         int64\n",
              "fl_simples_irregular                       int64\n",
              "empsetorcensitariofaixarendapopulacao    float64\n",
              "nm_meso_regiao                             int64\n",
              "nm_micro_regiao                            int64\n",
              "fl_passivel_iss                            int64\n",
              "qt_socios                                float64\n",
              "qt_socios_pf                             float64\n",
              "qt_socios_pj                             float64\n",
              "idade_media_socios                       float64\n",
              "idade_maxima_socios                      float64\n",
              "idade_minima_socios                      float64\n",
              "qt_socios_st_regular                     float64\n",
              "de_faixa_faturamento_estimado              int64\n",
              "de_faixa_faturamento_estimado_grupo        int64\n",
              "vl_faturamento_estimado_aux              float64\n",
              "vl_faturamento_estimado_grupo_aux        float64\n",
              "qt_filiais                                 int64\n",
              "portifolio                               float64\n",
              "dtype: object"
            ]
          },
          "metadata": {
            "tags": []
          },
          "execution_count": 242
        }
      ]
    },
    {
      "cell_type": "code",
      "metadata": {
        "id": "vwaJzfgFWWH9",
        "colab_type": "code",
        "colab": {}
      },
      "source": [
        "temp = temp.fillna(0)"
      ],
      "execution_count": 0,
      "outputs": []
    },
    {
      "cell_type": "code",
      "metadata": {
        "id": "iLvJfMDzb1hb",
        "colab_type": "code",
        "colab": {}
      },
      "source": [
        "if use_preprocs:\n",
        "    temp = pre_processor.fit_transform(temp.drop(columns=['id', 'portifolio']))\n",
        "    train, test, train_labels, test_labels = train_test_split(temp, df[df['portifolio'] > 0]['portifolio'].values, test_size=0.1, random_state=42)\n",
        "else:\n",
        "    train, test, train_labels, test_labels = train_test_split(temp.drop(columns=['portifolio', 'id']), temp['portifolio'].values, test_size=0.1, random_state=42)"
      ],
      "execution_count": 0,
      "outputs": []
    },
    {
      "cell_type": "code",
      "metadata": {
        "id": "di8KLGikplqn",
        "colab_type": "code",
        "colab": {}
      },
      "source": [
        ""
      ],
      "execution_count": 0,
      "outputs": []
    },
    {
      "cell_type": "markdown",
      "metadata": {
        "id": "Fz_txMJOK8T9",
        "colab_type": "text"
      },
      "source": [
        "# AutoML"
      ]
    },
    {
      "cell_type": "code",
      "metadata": {
        "id": "P24iJiCcc3V7",
        "colab_type": "code",
        "colab": {}
      },
      "source": [
        "# model = autosklearn.classification.AutoSklearnClassifier(\n",
        "#         time_left_for_this_task=3600, #6 horas 21600\n",
        "#         per_run_time_limit=300,\n",
        "#         tmp_folder='/tmp/autosklearn_sequential_tmp0',\n",
        "#         output_folder='/tmp/autosklearn_sequential_out0',\n",
        "#         ensemble_size=0,\n",
        "#         delete_tmp_folder_after_terminate=True,\n",
        "#         include_preprocessors=[\"no_preprocessing\", ], \n",
        "#         seed = 42,\n",
        "#         ml_memory_limit = 8720,\n",
        "#         resampling_strategy = 'holdout',\n",
        "#         n_jobs=4\n",
        "#     )"
      ],
      "execution_count": 0,
      "outputs": []
    },
    {
      "cell_type": "code",
      "metadata": {
        "id": "E_ZmfYJ1dNJf",
        "colab_type": "code",
        "colab": {}
      },
      "source": [
        "# model.fit(train, train_labels)"
      ],
      "execution_count": 0,
      "outputs": []
    },
    {
      "cell_type": "code",
      "metadata": {
        "id": "aLAcTbHSgJgl",
        "colab_type": "code",
        "colab": {}
      },
      "source": [
        "# model.fit_ensemble(train_labels, ensemble_size=50)"
      ],
      "execution_count": 0,
      "outputs": []
    },
    {
      "cell_type": "code",
      "metadata": {
        "id": "6sxoR4eBgIuN",
        "colab_type": "code",
        "colab": {}
      },
      "source": [
        "# print(model.show_models())"
      ],
      "execution_count": 0,
      "outputs": []
    },
    {
      "cell_type": "code",
      "metadata": {
        "id": "zale_AX2gHk4",
        "colab_type": "code",
        "colab": {}
      },
      "source": [
        "# model.cv_results_['mean_test_score']"
      ],
      "execution_count": 0,
      "outputs": []
    },
    {
      "cell_type": "code",
      "metadata": {
        "id": "euGoETxIgGr1",
        "colab_type": "code",
        "colab": {}
      },
      "source": [
        "# model.cv_results_"
      ],
      "execution_count": 0,
      "outputs": []
    },
    {
      "cell_type": "code",
      "metadata": {
        "id": "tGHbbByhgF5K",
        "colab_type": "code",
        "colab": {}
      },
      "source": [
        "# automl.cv_results_preds = model.predict(test)"
      ],
      "execution_count": 0,
      "outputs": []
    },
    {
      "cell_type": "code",
      "metadata": {
        "id": "esz3qYlNgE6m",
        "colab_type": "code",
        "colab": {}
      },
      "source": [
        "# model.score(test, test_labels)"
      ],
      "execution_count": 0,
      "outputs": []
    },
    {
      "cell_type": "code",
      "metadata": {
        "id": "5fTLBik0gD_Z",
        "colab_type": "code",
        "colab": {}
      },
      "source": [
        "# cv_results = pd.DataFrame(model.cv_results_)"
      ],
      "execution_count": 0,
      "outputs": []
    },
    {
      "cell_type": "code",
      "metadata": {
        "id": "arZdV48bgDIy",
        "colab_type": "code",
        "colab": {}
      },
      "source": [
        "# cv_results[cv_results['mean_test_score'] > 0.5]"
      ],
      "execution_count": 0,
      "outputs": []
    },
    {
      "cell_type": "code",
      "metadata": {
        "id": "hD6qsCUVgCKF",
        "colab_type": "code",
        "colab": {}
      },
      "source": [
        "# list(cv_results.iloc[4])"
      ],
      "execution_count": 0,
      "outputs": []
    },
    {
      "cell_type": "code",
      "metadata": {
        "id": "H4NYDUUSgAzO",
        "colab_type": "code",
        "colab": {}
      },
      "source": [
        "# print(model.sprint_statistics())"
      ],
      "execution_count": 0,
      "outputs": []
    },
    {
      "cell_type": "code",
      "metadata": {
        "id": "7kREoIGif_i9",
        "colab_type": "code",
        "colab": {}
      },
      "source": [
        "# preds = model.predict(test)"
      ],
      "execution_count": 0,
      "outputs": []
    },
    {
      "cell_type": "markdown",
      "metadata": {
        "id": "XrLz8Qr1j972",
        "colab_type": "text"
      },
      "source": [
        "# Models"
      ]
    },
    {
      "cell_type": "code",
      "metadata": {
        "id": "QEM5tg7ukFV1",
        "colab_type": "code",
        "colab": {}
      },
      "source": [
        "from sklearn.linear_model import PassiveAggressiveClassifier\n",
        "from sklearn.linear_model import LogisticRegression\n",
        "from sklearn.ensemble import RandomForestClassifier\n",
        "from sklearn.tree import DecisionTreeClassifier\n",
        "from sklearn.neural_network import MLPClassifier\n",
        "from sklearn.neighbors import KNeighborsClassifier"
      ],
      "execution_count": 0,
      "outputs": []
    },
    {
      "cell_type": "code",
      "metadata": {
        "id": "tSHqrndQj6gP",
        "colab_type": "code",
        "colab": {}
      },
      "source": [
        "# model = LogisticRegression(verbose=1) #0.4712230215827338\n",
        "model = RandomForestClassifier(n_estimators=1000) # , max_depth=None, random_state=42#0.76\n",
        "# model = DecisionTreeClassifier() #0.7589928057553957\n",
        "# model = MLPClassifier(max_iter=200) #0.59\n",
        "# model = KNeighborsClassifier(n_neighbors=10) #0.7805755395683454"
      ],
      "execution_count": 0,
      "outputs": []
    },
    {
      "cell_type": "code",
      "metadata": {
        "id": "FavkEJ36kBSH",
        "colab_type": "code",
        "outputId": "104e2557-ac59-49bf-f1ce-0dafd9ed6bb1",
        "colab": {
          "base_uri": "https://localhost:8080/",
          "height": 153
        }
      },
      "source": [
        "model.fit(train, train_labels)"
      ],
      "execution_count": 260,
      "outputs": [
        {
          "output_type": "execute_result",
          "data": {
            "text/plain": [
              "RandomForestClassifier(bootstrap=True, ccp_alpha=0.0, class_weight=None,\n",
              "                       criterion='gini', max_depth=None, max_features='auto',\n",
              "                       max_leaf_nodes=None, max_samples=None,\n",
              "                       min_impurity_decrease=0.0, min_impurity_split=None,\n",
              "                       min_samples_leaf=1, min_samples_split=2,\n",
              "                       min_weight_fraction_leaf=0.0, n_estimators=1000,\n",
              "                       n_jobs=None, oob_score=False, random_state=None,\n",
              "                       verbose=0, warm_start=False)"
            ]
          },
          "metadata": {
            "tags": []
          },
          "execution_count": 260
        }
      ]
    },
    {
      "cell_type": "code",
      "metadata": {
        "id": "LTlNkOZRkXtk",
        "colab_type": "code",
        "colab": {}
      },
      "source": [
        "preds = model.predict(test)"
      ],
      "execution_count": 0,
      "outputs": []
    },
    {
      "cell_type": "code",
      "metadata": {
        "id": "pjVE89y0kaWc",
        "colab_type": "code",
        "outputId": "05e4ce5a-2e01-4acd-e943-e90bf768dfe2",
        "colab": {
          "base_uri": "https://localhost:8080/",
          "height": 34
        }
      },
      "source": [
        "print(model.score(test, test_labels))"
      ],
      "execution_count": 262,
      "outputs": [
        {
          "output_type": "stream",
          "text": [
            "0.7338129496402878\n"
          ],
          "name": "stdout"
        }
      ]
    },
    {
      "cell_type": "code",
      "metadata": {
        "id": "bAPP7OJSkcqJ",
        "colab_type": "code",
        "outputId": "62de3ccc-9de9-4f42-b8e3-4272f53a05b1",
        "colab": {
          "base_uri": "https://localhost:8080/",
          "height": 34
        }
      },
      "source": [
        "print(model.score(train, train_labels))"
      ],
      "execution_count": 263,
      "outputs": [
        {
          "output_type": "stream",
          "text": [
            "0.9318364073777065\n"
          ],
          "name": "stdout"
        }
      ]
    },
    {
      "cell_type": "code",
      "metadata": {
        "id": "NuNu0AhLkey-",
        "colab_type": "code",
        "outputId": "932921ed-3a17-4711-e7b7-d197e15dcb42",
        "colab": {
          "base_uri": "https://localhost:8080/",
          "height": 187
        }
      },
      "source": [
        "print(classification_report(test_labels, preds))"
      ],
      "execution_count": 264,
      "outputs": [
        {
          "output_type": "stream",
          "text": [
            "              precision    recall  f1-score   support\n",
            "\n",
            "         1.0       1.00      1.00      1.00        56\n",
            "         2.0       0.70      0.64      0.67        59\n",
            "         3.0       0.28      0.33      0.30        24\n",
            "\n",
            "    accuracy                           0.73       139\n",
            "   macro avg       0.66      0.66      0.66       139\n",
            "weighted avg       0.75      0.73      0.74       139\n",
            "\n"
          ],
          "name": "stdout"
        }
      ]
    },
    {
      "cell_type": "code",
      "metadata": {
        "id": "khMz3agAkegM",
        "colab_type": "code",
        "outputId": "1c95d1ce-5631-4344-cf71-b754a403a404",
        "colab": {
          "base_uri": "https://localhost:8080/",
          "height": 68
        }
      },
      "source": [
        "metrics.confusion_matrix(test_labels, preds)"
      ],
      "execution_count": 265,
      "outputs": [
        {
          "output_type": "execute_result",
          "data": {
            "text/plain": [
              "array([[56,  0,  0],\n",
              "       [ 0, 38, 21],\n",
              "       [ 0, 16,  8]])"
            ]
          },
          "metadata": {
            "tags": []
          },
          "execution_count": 265
        }
      ]
    },
    {
      "cell_type": "code",
      "metadata": {
        "id": "Z2n_eOAlkGgd",
        "colab_type": "code",
        "colab": {
          "base_uri": "https://localhost:8080/",
          "height": 279
        },
        "outputId": "c1db7f3f-9347-4942-92e5-0e63b0cf4ab7"
      },
      "source": [
        "fig, ax = plot_confusion_matrix(conf_mat=metrics.confusion_matrix(test_labels, preds))"
      ],
      "execution_count": 266,
      "outputs": [
        {
          "output_type": "display_data",
          "data": {
            "image/png": "[encoded data removed]",
            "text/plain": [
              "<Figure size 432x288 with 1 Axes>"
            ]
          },
          "metadata": {
            "tags": [],
            "needs_background": "light"
          }
        }
      ]
    },
    {
      "cell_type": "markdown",
      "metadata": {
        "id": "nSMTUMQHYb0T",
        "colab_type": "text"
      },
      "source": [
        "# Cross"
      ]
    },
    {
      "cell_type": "code",
      "metadata": {
        "id": "2RrrO-yTcJn7",
        "colab_type": "code",
        "colab": {}
      },
      "source": [
        "# cross_validate(automl, train, train_labels, cv=5)"
      ],
      "execution_count": 0,
      "outputs": []
    },
    {
      "cell_type": "code",
      "metadata": {
        "id": "r2iHqzgScODs",
        "colab_type": "code",
        "colab": {}
      },
      "source": [
        "# cross_val_score(automl, train, train_labels, cv=5)"
      ],
      "execution_count": 0,
      "outputs": []
    },
    {
      "cell_type": "code",
      "metadata": {
        "id": "QyDx8Zt6cPC8",
        "colab_type": "code",
        "colab": {}
      },
      "source": [
        "# cross_val_predict(automl, train, train_labels, cv=10)"
      ],
      "execution_count": 0,
      "outputs": []
    },
    {
      "cell_type": "markdown",
      "metadata": {
        "id": "og1vcUsKYic1",
        "colab_type": "text"
      },
      "source": [
        "# Results"
      ]
    },
    {
      "cell_type": "code",
      "metadata": {
        "id": "0-amayKtXR1_",
        "colab_type": "code",
        "colab": {}
      },
      "source": [
        "if use_preprocs:\n",
        "    preds = pre_processor.fit_transform(df[df['portifolio'] == 0].drop(columns=['portifolio','id']).fillna(0))\n",
        "    preds_proba = model.predict_proba(preds)\n",
        "else:\n",
        "    preds_proba = model.predict_proba(df.drop(columns=['portifolio','id'])[df['portifolio'] == 0])"
      ],
      "execution_count": 0,
      "outputs": []
    },
    {
      "cell_type": "code",
      "metadata": {
        "id": "F938R-aqVtSp",
        "colab_type": "code",
        "colab": {}
      },
      "source": [
        ""
      ],
      "execution_count": 0,
      "outputs": []
    },
    {
      "cell_type": "code",
      "metadata": {
        "id": "h06eGpTttRp6",
        "colab_type": "code",
        "outputId": "cc933b17-4432-482b-c28d-178ee526d152",
        "colab": {
          "base_uri": "https://localhost:8080/",
          "height": 34
        }
      },
      "source": [
        "len(preds_proba)"
      ],
      "execution_count": 271,
      "outputs": [
        {
          "output_type": "execute_result",
          "data": {
            "text/plain": [
              "461020"
            ]
          },
          "metadata": {
            "tags": []
          },
          "execution_count": 271
        }
      ]
    },
    {
      "cell_type": "code",
      "metadata": {
        "id": "pfEwYvF-n-y2",
        "colab_type": "code",
        "colab": {
          "base_uri": "https://localhost:8080/",
          "height": 102
        },
        "outputId": "8a7112b6-c7c5-4dc4-c970-a5db6cc76816"
      },
      "source": [
        "preds_proba[:5]"
      ],
      "execution_count": 272,
      "outputs": [
        {
          "output_type": "execute_result",
          "data": {
            "text/plain": [
              "array([[0.829  , 0.1655 , 0.0055 ],\n",
              "       [0.719  , 0.14525, 0.13575],\n",
              "       [0.84   , 0.08475, 0.07525],\n",
              "       [0.827  , 0.096  , 0.077  ],\n",
              "       [0.756  , 0.124  , 0.12   ]])"
            ]
          },
          "metadata": {
            "tags": []
          },
          "execution_count": 272
        }
      ]
    },
    {
      "cell_type": "code",
      "metadata": {
        "id": "cC8j-B-AfmKL",
        "colab_type": "code",
        "colab": {}
      },
      "source": [
        "top_n_pred = np.argsort(preds_proba, axis=1) #[:,-n :]"
      ],
      "execution_count": 0,
      "outputs": []
    },
    {
      "cell_type": "code",
      "metadata": {
        "id": "HH1m_OYVtTWs",
        "colab_type": "code",
        "outputId": "35fff817-f45f-4121-804c-dddd3dee81a5",
        "colab": {
          "base_uri": "https://localhost:8080/",
          "height": 34
        }
      },
      "source": [
        "len(top_n_pred)"
      ],
      "execution_count": 274,
      "outputs": [
        {
          "output_type": "execute_result",
          "data": {
            "text/plain": [
              "461020"
            ]
          },
          "metadata": {
            "tags": []
          },
          "execution_count": 274
        }
      ]
    },
    {
      "cell_type": "code",
      "metadata": {
        "id": "05sOFSRYlw56",
        "colab_type": "code",
        "colab": {
          "base_uri": "https://localhost:8080/",
          "height": 102
        },
        "outputId": "248868b9-e31d-432c-8599-19c1a6b97726"
      },
      "source": [
        "top_n_pred[:5]"
      ],
      "execution_count": 275,
      "outputs": [
        {
          "output_type": "execute_result",
          "data": {
            "text/plain": [
              "array([[2, 1, 0],\n",
              "       [2, 1, 0],\n",
              "       [2, 1, 0],\n",
              "       [2, 1, 0],\n",
              "       [2, 1, 0]])"
            ]
          },
          "metadata": {
            "tags": []
          },
          "execution_count": 275
        }
      ]
    },
    {
      "cell_type": "code",
      "metadata": {
        "id": "CCsW72rLtXuS",
        "colab_type": "code",
        "colab": {}
      },
      "source": [
        "# df[df['portifolio'] == 0]"
      ],
      "execution_count": 0,
      "outputs": []
    },
    {
      "cell_type": "code",
      "metadata": {
        "id": "Y644z2Zoir_g",
        "colab_type": "code",
        "colab": {
          "base_uri": "https://localhost:8080/",
          "height": 51
        },
        "outputId": "40add993-18ad-453c-dd57-54a4e8eb6db3"
      },
      "source": [
        "print(model.classes_[top_n_pred][0])\n",
        "print(sorted(sorted(preds_proba[0], reverse=True))) #ordem inversa, primeiro dessa lista é o último da lista acima)"
      ],
      "execution_count": 277,
      "outputs": [
        {
          "output_type": "stream",
          "text": [
            "[3. 2. 1.]\n",
            "[0.0055, 0.1655, 0.829]\n"
          ],
          "name": "stdout"
        }
      ]
    },
    {
      "cell_type": "code",
      "metadata": {
        "id": "LIEV7f7tkQ8R",
        "colab_type": "code",
        "colab": {}
      },
      "source": [
        "a = {'id': [], 'portifolio': [], '%': []}\n",
        "\n",
        "for index, ida in enumerate(list(df['id'])[:10000]): #LIMITE\n",
        "  for i in range(3):\n",
        "      a['id'].append(ida)\n",
        "      a['portifolio'].append(model.classes_[top_n_pred][index][i])\n",
        "      a['%'].append(sorted(sorted(preds_proba[index], reverse=True))[i])"
      ],
      "execution_count": 0,
      "outputs": []
    },
    {
      "cell_type": "code",
      "metadata": {
        "id": "np398w7_kfPV",
        "colab_type": "code",
        "colab": {}
      },
      "source": [
        "final = pd.DataFrame.from_dict(a)"
      ],
      "execution_count": 0,
      "outputs": []
    },
    {
      "cell_type": "code",
      "metadata": {
        "id": "aX65gdATmg6w",
        "colab_type": "code",
        "colab": {
          "base_uri": "https://localhost:8080/",
          "height": 419
        },
        "outputId": "5c35d408-786e-4cd1-a211-c5525d6b02e9"
      },
      "source": [
        "final"
      ],
      "execution_count": 280,
      "outputs": [
        {
          "output_type": "execute_result",
          "data": {
            "text/html": [
              "<div>\n",
              "<style scoped>\n",
              "    .dataframe tbody tr th:only-of-type {\n",
              "        vertical-align: middle;\n",
              "    }\n",
              "\n",
              "    .dataframe tbody tr th {\n",
              "        vertical-align: top;\n",
              "    }\n",
              "\n",
              "    .dataframe thead th {\n",
              "        text-align: right;\n",
              "    }\n",
              "</style>\n",
              "<table border=\"1\" class=\"dataframe\">\n",
              "  <thead>\n",
              "    <tr style=\"text-align: right;\">\n",
              "      <th></th>\n",
              "      <th>id</th>\n",
              "      <th>portifolio</th>\n",
              "      <th>%</th>\n",
              "    </tr>\n",
              "  </thead>\n",
              "  <tbody>\n",
              "    <tr>\n",
              "      <th>0</th>\n",
              "      <td>a6984c3ae395090e3bee8ad63c3758b110de096d5d8195...</td>\n",
              "      <td>3.00</td>\n",
              "      <td>0.01</td>\n",
              "    </tr>\n",
              "    <tr>\n",
              "      <th>1</th>\n",
              "      <td>a6984c3ae395090e3bee8ad63c3758b110de096d5d8195...</td>\n",
              "      <td>2.00</td>\n",
              "      <td>0.17</td>\n",
              "    </tr>\n",
              "    <tr>\n",
              "      <th>2</th>\n",
              "      <td>a6984c3ae395090e3bee8ad63c3758b110de096d5d8195...</td>\n",
              "      <td>1.00</td>\n",
              "      <td>0.83</td>\n",
              "    </tr>\n",
              "    <tr>\n",
              "      <th>3</th>\n",
              "      <td>6178f41ade1365e44bc2c46654c2c8c0eaae27dcb476c4...</td>\n",
              "      <td>3.00</td>\n",
              "      <td>0.14</td>\n",
              "    </tr>\n",
              "    <tr>\n",
              "      <th>4</th>\n",
              "      <td>6178f41ade1365e44bc2c46654c2c8c0eaae27dcb476c4...</td>\n",
              "      <td>2.00</td>\n",
              "      <td>0.15</td>\n",
              "    </tr>\n",
              "    <tr>\n",
              "      <th>...</th>\n",
              "      <td>...</td>\n",
              "      <td>...</td>\n",
              "      <td>...</td>\n",
              "    </tr>\n",
              "    <tr>\n",
              "      <th>29995</th>\n",
              "      <td>9c7c1fe2da9458cbf1713d50190bde2aa453e6a5f7ac34...</td>\n",
              "      <td>2.00</td>\n",
              "      <td>0.09</td>\n",
              "    </tr>\n",
              "    <tr>\n",
              "      <th>29996</th>\n",
              "      <td>9c7c1fe2da9458cbf1713d50190bde2aa453e6a5f7ac34...</td>\n",
              "      <td>1.00</td>\n",
              "      <td>0.82</td>\n",
              "    </tr>\n",
              "    <tr>\n",
              "      <th>29997</th>\n",
              "      <td>7ee1f4f24d2c421e62e3a067e050b600c10d43ddd22f8f...</td>\n",
              "      <td>3.00</td>\n",
              "      <td>0.00</td>\n",
              "    </tr>\n",
              "    <tr>\n",
              "      <th>29998</th>\n",
              "      <td>7ee1f4f24d2c421e62e3a067e050b600c10d43ddd22f8f...</td>\n",
              "      <td>2.00</td>\n",
              "      <td>0.00</td>\n",
              "    </tr>\n",
              "    <tr>\n",
              "      <th>29999</th>\n",
              "      <td>7ee1f4f24d2c421e62e3a067e050b600c10d43ddd22f8f...</td>\n",
              "      <td>1.00</td>\n",
              "      <td>1.00</td>\n",
              "    </tr>\n",
              "  </tbody>\n",
              "</table>\n",
              "<p>30000 rows × 3 columns</p>\n",
              "</div>"
            ],
            "text/plain": [
              "                                                      id  portifolio    %\n",
              "0      a6984c3ae395090e3bee8ad63c3758b110de096d5d8195...        3.00 0.01\n",
              "1      a6984c3ae395090e3bee8ad63c3758b110de096d5d8195...        2.00 0.17\n",
              "2      a6984c3ae395090e3bee8ad63c3758b110de096d5d8195...        1.00 0.83\n",
              "3      6178f41ade1365e44bc2c46654c2c8c0eaae27dcb476c4...        3.00 0.14\n",
              "4      6178f41ade1365e44bc2c46654c2c8c0eaae27dcb476c4...        2.00 0.15\n",
              "...                                                  ...         ...  ...\n",
              "29995  9c7c1fe2da9458cbf1713d50190bde2aa453e6a5f7ac34...        2.00 0.09\n",
              "29996  9c7c1fe2da9458cbf1713d50190bde2aa453e6a5f7ac34...        1.00 0.82\n",
              "29997  7ee1f4f24d2c421e62e3a067e050b600c10d43ddd22f8f...        3.00 0.00\n",
              "29998  7ee1f4f24d2c421e62e3a067e050b600c10d43ddd22f8f...        2.00 0.00\n",
              "29999  7ee1f4f24d2c421e62e3a067e050b600c10d43ddd22f8f...        1.00 1.00\n",
              "\n",
              "[30000 rows x 3 columns]"
            ]
          },
          "metadata": {
            "tags": []
          },
          "execution_count": 280
        }
      ]
    },
    {
      "cell_type": "code",
      "metadata": {
        "id": "c_CLscXDb8Iu",
        "colab_type": "code",
        "colab": {
          "base_uri": "https://localhost:8080/",
          "height": 336
        },
        "outputId": "5bf405ae-74de-4b13-fea4-9829d433e055"
      },
      "source": [
        "final.loc[final.groupby([\"id\"])[\"%\"].idxmax()].groupby(['portifolio']).count().plot.pie(y='id', fontsize=8, title='Quantidade por Segmento', figsize=(5, 5))"
      ],
      "execution_count": 281,
      "outputs": [
        {
          "output_type": "execute_result",
          "data": {
            "text/plain": [
              "<matplotlib.axes._subplots.AxesSubplot at 0x7febd81714a8>"
            ]
          },
          "metadata": {
            "tags": []
          },
          "execution_count": 281
        },
        {
          "output_type": "display_data",
          "data": {
            "image/png": "[encoded data removed]",
            "text/plain": [
              "<Figure size 360x360 with 1 Axes>"
            ]
          },
          "metadata": {
            "tags": []
          }
        }
      ]
    },
    {
      "cell_type": "code",
      "metadata": {
        "id": "YvAeRMgKnGIj",
        "colab_type": "code",
        "colab": {}
      },
      "source": [
        "def f(x):\n",
        "    print(final[final['%'] > x / 100].sort_values(by=['portifolio', '%'], ascending=False))\n",
        "    return x"
      ],
      "execution_count": 0,
      "outputs": []
    },
    {
      "cell_type": "code",
      "metadata": {
        "id": "n5R_Tf9Ymucn",
        "colab_type": "code",
        "colab": {
          "base_uri": "https://localhost:8080/",
          "height": 304,
          "referenced_widgets": [
            "7b63e1721e9a40518e71927fd2d975ed",
            "15cc6795afaf4720a837b3c8eb18a548",
            "e179571b044e48099f72269f852c3a85",
            "b67d5baa4ad4476fbfd8223a924e0485",
            "a52d40f8f936449dbc034a1a2d6f3ba8",
            "72b78323dcc9429a8df1c7dd0c9a3b2a",
            "e0a3c13ebdec4f72a6b6fc455ba8912d"
          ]
        },
        "outputId": "b93eb68d-6ec3-4e51-bf5e-f4687fbd4b4d"
      },
      "source": [
        "interact(f, x=widgets.IntSlider(min=0, max=99, step=1, value=95));"
      ],
      "execution_count": 283,
      "outputs": [
        {
          "output_type": "display_data",
          "data": {
            "application/vnd.jupyter.widget-view+json": {
              "model_id": "7b63e1721e9a40518e71927fd2d975ed",
              "version_minor": 0,
              "version_major": 2
            },
            "text/plain": [
              "interactive(children=(IntSlider(value=95, description='x', max=99), Output()), _dom_classes=('widget-interact'…"
            ]
          },
          "metadata": {
            "tags": []
          }
        }
      ]
    },
    {
      "cell_type": "code",
      "metadata": {
        "id": "w_u0PK71nLnk",
        "colab_type": "code",
        "colab": {}
      },
      "source": [
        ""
      ],
      "execution_count": 0,
      "outputs": []
    }
  ]
}